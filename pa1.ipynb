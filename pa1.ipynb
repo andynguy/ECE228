{
  "cells": [
    {
      "cell_type": "markdown",
      "metadata": {
        "id": "yILF8MInAA8n"
      },
      "source": [
        "# Programming Assignment 1: LASSO\n",
        "\n",
        "### Instructor: Yuanyuan Shi\n",
        "\n",
        "### Teaching Assistants\n",
        "\n",
        "- Yuexin Bian, [yubian@ucsd.edu]\n",
        "- Tz-Ying Wu, [tzw001@ucsd.edu]\n",
        "\n",
        "## Instructions\n",
        "1. This assignment must be completed individually.  \n",
        "2. This notebook contains skeleton code, which should not be modified\n",
        "3. You must run all cells in this notebook and submit this notebook as an .ipynb file.\n",
        "4. You must submit the .ipynb on Gradescope."
      ]
    },
    {
      "cell_type": "markdown",
      "metadata": {
        "id": "o0s96T6kAA8p"
      },
      "source": [
        "## Setup"
      ]
    },
    {
      "cell_type": "code",
      "execution_count": 1,
      "metadata": {
        "id": "zQIffV5hAA8q",
        "outputId": "332b7807-2b84-4e21-c845-e49222601379",
        "colab": {
          "base_uri": "https://localhost:8080/"
        }
      },
      "outputs": [
        {
          "output_type": "stream",
          "name": "stdout",
          "text": [
            "HELLO WORLD, THIS IS A TEST FROM ANDY\n"
          ]
        }
      ],
      "source": [
        "import numpy as np\n",
        "from numpy import linalg\n",
        "import scipy\n",
        "from scipy.sparse import csc_matrix\n",
        "import matplotlib.pyplot as plt\n",
        "from scipy.io.arff import loadarff\n",
        "import pandas as pd\n",
        "from sklearn.model_selection import train_test_split\n",
        "%matplotlib inline\n",
        "# Comment it if you are not using mac\n",
        "%config InlineBackend.figure_format = 'retina'\n",
        "\n",
        "print(\"HELLO WORLD, THIS IS A TEST FROM ANDY\")"
      ]
    },
    {
      "cell_type": "markdown",
      "metadata": {
        "id": "_zs1YJypAA8r"
      },
      "source": [
        "## Implement coordinate descent "
      ]
    },
    {
      "cell_type": "code",
      "execution_count": null,
      "metadata": {
        "id": "nnM1SY0uAA8s"
      },
      "outputs": [],
      "source": [
        "#TODO: You should initialize w_0 and w\n",
        "# Initialize w_0 to be 0, and initialize vector w that each element follows gaussian distribution (0, 1)\n",
        "# Implement algorithm following algorithm 1\n",
        "def lasso(X, y, reg):\n",
        "    \"\"\"\n",
        "    Args:\n",
        "        X: (N, d) \n",
        "        y: (N, 1)\n",
        "        reg: regularization coefficient lambda\n",
        "    Returns:\n",
        "        w: (d, 1) weight vector\n",
        "        w0: unregularized term\n",
        "    \"\"\"\n",
        "    np.random.seed(0)\n",
        "    w = None\n",
        "    w0 = None\n",
        "\n",
        "    return w, w0"
      ]
    },
    {
      "cell_type": "markdown",
      "metadata": {
        "id": "i_jM7ya9AA8t"
      },
      "source": [
        "## Dataset: synthetic data (15 points)\n",
        "### 1. Generate data X, y\n",
        "### 2. solve multiple lasso problems on a regularization path\n",
        "### 3. Plot the precision and recall via regularizations"
      ]
    },
    {
      "cell_type": "code",
      "execution_count": null,
      "metadata": {
        "id": "SvoIshkOAA8t"
      },
      "outputs": [],
      "source": [
        "#TODO: generate true weight vector and weight following assignment\n",
        "def generate_true_w(d, K):\n",
        "    \"\"\"\n",
        "    Args:\n",
        "        d: int dimension of the input data X (N, d)\n",
        "        K: int, the number of useful features\n",
        "    Returns:\n",
        "        w: (d,1) weight vector\n",
        "        w0: unregularized term\n",
        "    \"\"\"\n",
        "    np.random.seed(0)\n",
        "    w = None\n",
        "    w0 = None\n",
        "    return w, w0\n",
        "\n",
        "#TODO: generate true weight vector and weight following assignment\n",
        "def generate_data(w, w0, N, d, sigma):\n",
        "    \"\"\"\n",
        "    Args:\n",
        "        w: (d,1) weight vector\n",
        "        w0: unregularized term\n",
        "        N: int, the number of data samples\n",
        "        d: int, dimension of the input data X (N, d)\n",
        "        sigma: standard deviation of gaussian noise to generate y\n",
        "    Returns:\n",
        "        X: array (N, d)\n",
        "        y: array (N, 1)\n",
        "    \"\"\"\n",
        "    np.random.seed(0)\n",
        "    X = None\n",
        "    y = None\n",
        "    return X, y\n",
        "\n",
        "\n",
        "#TODO: compute max lambda follow equation (2) in assignment document\n",
        "def compute_lambdamax(X, y):\n",
        "    \"\"\"\n",
        "    Args:\n",
        "        X: (N,d) input data\n",
        "        y: (N,1) input label\n",
        "    Returns:\n",
        "        maxreg: int, estimated max value of regularization term\n",
        "    \"\"\"\n",
        "    maxreg = None\n",
        "    return maxreg\n",
        "\n",
        "# Using the plot function to generate plots\n",
        "def plot(regs, precision, recall):\n",
        "    fig, ax = plt.subplots(1, 2, figsize=(12,5))\n",
        "    ax[0].plot(regs, precision, label='precision')\n",
        "    ax[1].plot(regs, recall, label='recall')\n",
        "    ax[0].set_xlabel('L1 regularization strength')\n",
        "    ax[1].set_xlabel('L1 regularization strength')\n",
        "    ax[0].set_title('Precision')\n",
        "    ax[1].set_title('Recall')\n",
        "    plt.show()\n"
      ]
    },
    {
      "cell_type": "code",
      "execution_count": null,
      "metadata": {
        "id": "Cx6jufNIAA8v",
        "outputId": "e633ec0f-7a7c-47e4-ff3f-132715732d16"
      },
      "outputs": [
        {
          "ename": "NameError",
          "evalue": "name 'np' is not defined",
          "output_type": "error",
          "traceback": [
            "\u001b[0;31m---------------------------------------------------------------------------\u001b[0m",
            "\u001b[0;31mNameError\u001b[0m                                 Traceback (most recent call last)",
            "Input \u001b[0;32mIn [4]\u001b[0m, in \u001b[0;36m<cell line: 4>\u001b[0;34m()\u001b[0m\n\u001b[1;32m      1\u001b[0m \u001b[38;5;66;03m#TODO\u001b[39;00m\n\u001b[1;32m      2\u001b[0m \u001b[38;5;66;03m# Conduct experiments in 2.2 Dataset: synthetic data\u001b[39;00m\n\u001b[1;32m      3\u001b[0m K, d, N \u001b[38;5;241m=\u001b[39m \u001b[38;5;241m6\u001b[39m, \u001b[38;5;241m80\u001b[39m, \u001b[38;5;241m50\u001b[39m\n\u001b[0;32m----> 4\u001b[0m w, w0 \u001b[38;5;241m=\u001b[39m \u001b[43mgenerate_true_w\u001b[49m\u001b[43m(\u001b[49m\u001b[43md\u001b[49m\u001b[38;5;241;43m=\u001b[39;49m\u001b[43md\u001b[49m\u001b[43m,\u001b[49m\u001b[43m \u001b[49m\u001b[43mK\u001b[49m\u001b[38;5;241;43m=\u001b[39;49m\u001b[43mK\u001b[49m\u001b[43m)\u001b[49m\n\u001b[1;32m      5\u001b[0m X, y \u001b[38;5;241m=\u001b[39m generate_data(w, w0, N\u001b[38;5;241m=\u001b[39mN, d\u001b[38;5;241m=\u001b[39md, sigma\u001b[38;5;241m=\u001b[39m\u001b[38;5;241m1\u001b[39m)\n\u001b[1;32m      6\u001b[0m reg \u001b[38;5;241m=\u001b[39m generate_maxreg(X, y)\n",
            "Input \u001b[0;32mIn [2]\u001b[0m, in \u001b[0;36mgenerate_true_w\u001b[0;34m(d, K)\u001b[0m\n\u001b[1;32m      2\u001b[0m \u001b[38;5;28;01mdef\u001b[39;00m \u001b[38;5;21mgenerate_true_w\u001b[39m(d, K):\n\u001b[1;32m      3\u001b[0m     \u001b[38;5;124;03m\"\"\"\u001b[39;00m\n\u001b[1;32m      4\u001b[0m \u001b[38;5;124;03m    Args:\u001b[39;00m\n\u001b[1;32m      5\u001b[0m \u001b[38;5;124;03m        d: int dimension of the input data X (N, d)\u001b[39;00m\n\u001b[0;32m   (...)\u001b[0m\n\u001b[1;32m      9\u001b[0m \u001b[38;5;124;03m        w0: unregularized term\u001b[39;00m\n\u001b[1;32m     10\u001b[0m \u001b[38;5;124;03m    \"\"\"\u001b[39;00m\n\u001b[0;32m---> 11\u001b[0m     \u001b[43mnp\u001b[49m\u001b[38;5;241m.\u001b[39mrandom\u001b[38;5;241m.\u001b[39mseed(\u001b[38;5;241m0\u001b[39m)\n\u001b[1;32m     12\u001b[0m     w \u001b[38;5;241m=\u001b[39m \u001b[38;5;28;01mNone\u001b[39;00m\n\u001b[1;32m     13\u001b[0m     w0 \u001b[38;5;241m=\u001b[39m \u001b[38;5;28;01mNone\u001b[39;00m\n",
            "\u001b[0;31mNameError\u001b[0m: name 'np' is not defined"
          ]
        }
      ],
      "source": [
        "#TODO\n",
        "# Conduct experiments in 2.2 Dataset: synthetic data\n",
        "K, d, N = 6, 80, 50\n",
        "w, w0 = generate_true_w(d=d, K=K)\n",
        "X, y = generate_data(w, w0, N=N, d=d, sigma=1)\n",
        "reg = generate_maxreg(X, y)\n",
        "print(reg)\n",
        "\n",
        "# Feel free to change this decreasing ratio\n",
        "ratio = 2\n",
        "\n",
        "regs = np.zeros(20)\n",
        "precision = np.zeros(20)\n",
        "recall = np.zeros(20)\n",
        "for i in range(20):\n",
        "    pred_w, pred_w0 = lasso(X, y, reg)\n",
        "    if(np.count_nonzero(pred_w)==0):\n",
        "        precision[i] = 1\n",
        "    else:\n",
        "        precision[i] = np.count_nonzero(pred_w[:K])/np.count_nonzero(pred_w)\n",
        "    recall[i] = np.count_nonzero(pred_w[:K])/K\n",
        "    regs[i] = reg\n",
        "    reg = reg/ratio\n",
        "\n",
        "plot(regs, precision, recall)"
      ]
    },
    {
      "cell_type": "markdown",
      "metadata": {
        "id": "asLNVyJ-AA8w"
      },
      "source": [
        "## Dataset: Water quality data (20 points)\n",
        "### 1. Load data X, y\n",
        "## For predicting the water quality data for the first location and second location\n",
        "### 2. find good regularization coefficient, record RMSE for training data, validation data and test data\n",
        "### 3. list largest weight magnitude and the names of features"
      ]
    },
    {
      "cell_type": "code",
      "execution_count": null,
      "metadata": {
        "id": "zBgBZbnyAA8x",
        "outputId": "9e1f11d4-773f-4fc7-a61c-5ff3b0232473"
      },
      "outputs": [
        {
          "name": "stdout",
          "output_type": "stream",
          "text": [
            "X_train.shape (338, 11) X_validate.shape (85, 11) X_test.shape (282, 11)\n",
            "y_train.shape (338, 1) u_validate.shape (85, 11) y_test.shape (282, 1)\n"
          ]
        }
      ],
      "source": [
        "def prepare_set(X_train, X_test, y_train, y_test, loc=0):\n",
        "    X_train_1 = np.zeros((423, 11))\n",
        "    X_test_1 = np.zeros((282, 11))\n",
        "    for i in range(423):\n",
        "        X_train_1[i,:] = X_train[0,i][loc]\n",
        "        if i < 282: X_test_1[i,:] = X_train[0,i][loc]\n",
        "    y_train_1 = y_train[0].reshape(-1, 1)\n",
        "    y_test_1 = y_test[0].reshape(-1, 1)\n",
        "    X_train_1, X_val_1, y_train_1, y_val_1 = train_test_split(X_train_1, y_train_1, test_size=0.2, random_state=0)\n",
        "    return X_train_1, X_val_1, X_test_1, y_train_1, y_val_1, y_test_1\n",
        "\n",
        "def compute_rmse(y, ypred):\n",
        "    return np.sqrt(((y - ypred) ** 2).mean())\n",
        "\n",
        "def plot2(regs, train_rmse, val_rmse):\n",
        "    fig, ax = plt.subplots(1, 2, figsize=(12,5))\n",
        "    ax[0].plot(regs, train_rmse, label='Training RMSE')\n",
        "    ax[1].plot(regs, val_rmse, label='Validation RMSE')\n",
        "    ax[0].set_xlabel('L1 regularization strength')\n",
        "    ax[1].set_xlabel('L1 regularization strength')\n",
        "    ax[0].set_title('Training RMSE')\n",
        "    ax[1].set_title('Validation RMSE')\n",
        "    plt.show()\n",
        "\n",
        "# Read data\n",
        "data_file = \"water_dataset.mat\"   \n",
        "data = scipy.io.loadmat(data_file)\n",
        "X_train, X_test = data['X_tr'], data['X_te']\n",
        "y_train, y_test = data['Y_tr'], data['Y_te']\n",
        "\n",
        "# Change location using loc parameters\n",
        "X_train_1, X_val_1, X_test_1, y_train_1, y_val_1, y_test_1 = prepare_set(X_train, X_test, y_train, y_test, loc=0) \n",
        "\n",
        "\n",
        "print('X_train.shape', X_train_1.shape, 'X_validate.shape', X_val_1.shape, 'X_test.shape', X_test_1.shape)\n",
        "print('y_train.shape', y_train_1.shape, 'u_validate.shape', X_val_1.shape, 'y_test.shape', y_test_1.shape)"
      ]
    },
    {
      "cell_type": "code",
      "execution_count": null,
      "metadata": {
        "id": "fkARk315AA8x"
      },
      "outputs": [],
      "source": [
        "#TODO\n",
        "# Conduct experiments: 2.3 Water quality prediction"
      ]
    }
  ],
  "metadata": {
    "interpreter": {
      "hash": "5cc9548c05a244386a6d3194fd4ce0daff846e301aca00a00f7a9d28040987a3"
    },
    "kernelspec": {
      "display_name": "Python 3.8.13 64-bit ('dr': conda)",
      "name": "python3"
    },
    "language_info": {
      "codemirror_mode": {
        "name": "ipython",
        "version": 3
      },
      "file_extension": ".py",
      "mimetype": "text/x-python",
      "name": "python",
      "nbconvert_exporter": "python",
      "pygments_lexer": "ipython3",
      "version": "3.8.13"
    },
    "orig_nbformat": 4,
    "colab": {
      "provenance": []
    }
  },
  "nbformat": 4,
  "nbformat_minor": 0
}