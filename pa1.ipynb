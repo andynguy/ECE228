{
  "cells": [
    {
      "cell_type": "markdown",
      "metadata": {
        "id": "yILF8MInAA8n"
      },
      "source": [
        "# Programming Assignment 1: LASSO\n",
        "\n",
        "### Instructor: Yuanyuan Shi\n",
        "\n",
        "### Teaching Assistants\n",
        "\n",
        "- Yuexin Bian, [yubian@ucsd.edu]\n",
        "- Tz-Ying Wu, [tzw001@ucsd.edu]\n",
        "\n",
        "## Instructions\n",
        "1. This assignment must be completed individually.  \n",
        "2. This notebook contains skeleton code, which should not be modified\n",
        "3. You must run all cells in this notebook and submit this notebook as an .ipynb file.\n",
        "4. You must submit the .ipynb on Gradescope."
      ]
    },
    {
      "cell_type": "markdown",
      "metadata": {
        "id": "o0s96T6kAA8p"
      },
      "source": [
        "## Setup"
      ]
    },
    {
      "cell_type": "code",
      "execution_count": 248,
      "metadata": {
        "id": "zQIffV5hAA8q"
      },
      "outputs": [],
      "source": [
        "import numpy as np\n",
        "from numpy import linalg\n",
        "import scipy\n",
        "from scipy.sparse import csc_matrix\n",
        "import matplotlib.pyplot as plt\n",
        "from scipy.io.arff import loadarff\n",
        "import pandas as pd\n",
        "from sklearn.model_selection import train_test_split\n",
        "%matplotlib inline\n",
        "# Comment it if you are not using mac\n",
        "# %config InlineBackend.figure_format = 'retina'\n"
      ]
    },
    {
      "cell_type": "markdown",
      "metadata": {
        "id": "_zs1YJypAA8r"
      },
      "source": [
        "## Implement coordinate descent "
      ]
    },
    {
      "cell_type": "code",
      "source": [
        "def soft_threshold(a, c, reg):\n",
        "  if (c < -reg):\n",
        "    return ((c + reg) / a)\n",
        "  elif (c > reg):\n",
        "    return ((c - reg) / a)\n",
        "  else:\n",
        "    return 0"
      ],
      "metadata": {
        "id": "-3tF1u8F-8r8"
      },
      "execution_count": 294,
      "outputs": []
    },
    {
      "cell_type": "code",
      "execution_count": 314,
      "metadata": {
        "id": "nnM1SY0uAA8s"
      },
      "outputs": [],
      "source": [
        "#TODO: You should initialize w_0 and w\n",
        "# Initialize w_0 to be 0, and initialize vector w that each element follows gaussian distribution (0, 1)\n",
        "# Implement algorithm following algorithm 1\n",
        "def lasso(X, y, reg):\n",
        "    \"\"\"\n",
        "    Args:\n",
        "        X: (N, d) \n",
        "        y: (N, 1)\n",
        "        reg: regularization coefficient lambda\n",
        "    Returns:\n",
        "        w: (d, 1) weight vector\n",
        "        w0: unregularized term\n",
        "    \"\"\"\n",
        "    np.random.seed(0)\n",
        "    N, d = X.shape\n",
        "    mu = 0\n",
        "    sigma = 1\n",
        "    w = np.random.normal(mu, sigma, (d,1))\n",
        "    w0 = 0\n",
        "    T = 10 #num iterations\n",
        "    X_norm = X / (np.linalg.norm(X, axis = 0))\n",
        "    for t in range(T):\n",
        "      y_t = X_norm@w + w0\n",
        "      w0_t1 = -np.mean(y-y_t)\n",
        "      y_t = y_t - w0 + w0_t1\n",
        "      w0 = w0_t1\n",
        "      for k in range(d):\n",
        "        X_k = X_norm[:, k].reshape(-1, 1)\n",
        "        a_k = np.sum(X_k**2)\n",
        "        c_k = X_k.T @ (y - (w0_t1 + X_norm @ w - w[k]*X_k))\n",
        "        \n",
        "        w[k] = soft_threshold(a_k, c_k, reg)\n",
        "\n",
        "      loss = np.sum((X_norm@w + w0_t1 - y)**2) + reg*np.sum(np.abs(w))\n",
        "      print(loss)\n",
        "        \n",
        "    return w, w0"
      ]
    },
    {
      "cell_type": "code",
      "source": [
        "K, d, N = 6, 80, 50\n",
        "w, w0 = generate_true_w(d=d, K=K)\n",
        "X, y = generate_data(w, w0, N=N, d=d, sigma=1)\n"
      ],
      "metadata": {
        "id": "SMAmVjJo2qOi"
      },
      "execution_count": 315,
      "outputs": []
    },
    {
      "cell_type": "code",
      "source": [
        "w, w0 = lasso(X, y, 1)\n",
        "w"
      ],
      "metadata": {
        "id": "0hH9c7rbOiVr",
        "outputId": "64038cf7-fa3e-4864-f10f-7703d3a24e0f",
        "colab": {
          "base_uri": "https://localhost:8080/"
        }
      },
      "execution_count": 316,
      "outputs": [
        {
          "output_type": "stream",
          "name": "stdout",
          "text": [
            "1519.8349806822594\n",
            "837.0799958925832\n",
            "723.6188033442584\n",
            "661.0062234365168\n",
            "620.1356098699175\n",
            "587.905885456922\n",
            "569.4131602149824\n",
            "568.5650878812952\n",
            "568.287567270256\n",
            "568.1695034525658\n"
          ]
        },
        {
          "output_type": "execute_result",
          "data": {
            "text/plain": [
              "array([[116.15202968],\n",
              "       [ 29.498218  ],\n",
              "       [ 57.16019549],\n",
              "       [153.6837423 ],\n",
              "       [138.21135245],\n",
              "       [-66.86047016],\n",
              "       [  0.        ],\n",
              "       [  0.        ],\n",
              "       [  0.        ],\n",
              "       [  0.        ],\n",
              "       [  0.        ],\n",
              "       [  0.        ],\n",
              "       [  0.        ],\n",
              "       [  0.        ],\n",
              "       [  0.        ],\n",
              "       [  0.        ],\n",
              "       [  0.        ],\n",
              "       [  0.        ],\n",
              "       [  0.        ],\n",
              "       [  0.        ],\n",
              "       [  0.        ],\n",
              "       [  0.        ],\n",
              "       [  0.        ],\n",
              "       [  0.        ],\n",
              "       [  0.        ],\n",
              "       [  0.        ],\n",
              "       [  0.        ],\n",
              "       [  0.        ],\n",
              "       [  0.        ],\n",
              "       [  0.        ],\n",
              "       [  0.        ],\n",
              "       [  0.        ],\n",
              "       [  0.        ],\n",
              "       [  0.        ],\n",
              "       [  0.        ],\n",
              "       [  0.        ],\n",
              "       [  0.        ],\n",
              "       [  0.        ],\n",
              "       [  0.        ],\n",
              "       [  0.        ],\n",
              "       [  0.        ],\n",
              "       [  0.        ],\n",
              "       [  0.        ],\n",
              "       [  0.        ],\n",
              "       [  0.        ],\n",
              "       [  0.        ],\n",
              "       [  0.        ],\n",
              "       [  0.        ],\n",
              "       [  0.        ],\n",
              "       [  0.        ],\n",
              "       [  0.        ],\n",
              "       [  0.        ],\n",
              "       [  0.        ],\n",
              "       [  0.        ],\n",
              "       [  0.        ],\n",
              "       [  0.        ],\n",
              "       [  0.        ],\n",
              "       [  0.        ],\n",
              "       [  0.        ],\n",
              "       [  0.        ],\n",
              "       [  0.        ],\n",
              "       [  0.        ],\n",
              "       [  0.        ],\n",
              "       [  0.        ],\n",
              "       [  0.        ],\n",
              "       [  0.        ],\n",
              "       [  0.        ],\n",
              "       [  0.        ],\n",
              "       [  0.        ],\n",
              "       [  0.        ],\n",
              "       [  0.        ],\n",
              "       [  0.        ],\n",
              "       [  0.        ],\n",
              "       [  0.        ],\n",
              "       [  0.        ],\n",
              "       [  0.        ],\n",
              "       [  0.        ],\n",
              "       [  0.        ],\n",
              "       [  0.        ],\n",
              "       [  0.        ]])"
            ]
          },
          "metadata": {},
          "execution_count": 316
        }
      ]
    },
    {
      "cell_type": "code",
      "source": [
        "# X = np.array([[1, 2, 3],\n",
        "#               [4, 5, 6],\n",
        "#               [7, 8, 9]])\n",
        "# np.sum(X[:, 0:0])\n",
        "# mu = 1;\n",
        "# sigma = 1;\n",
        "# d = 100;\n",
        "# w = np.random.normal(mu, sigma, X.shape[1])\n",
        "# print(w)\n",
        "# print(X.shape[1])\n",
        "# np.sum(w[2:])\n",
        "\n",
        "# for i in range(3):\n",
        "#   print(i)"
      ],
      "metadata": {
        "id": "mfbdj-8YGBtq"
      },
      "execution_count": null,
      "outputs": []
    },
    {
      "cell_type": "code",
      "source": [
        "# K = 6\n",
        "# d = 20\n",
        "# w = np.zeros((d, 1))\n",
        "# w[0:K] = np.random.normal(mu, 10, (K,1))\n",
        "# w\n"
      ],
      "metadata": {
        "id": "JdoowGx2q00G"
      },
      "execution_count": null,
      "outputs": []
    },
    {
      "cell_type": "markdown",
      "metadata": {
        "id": "i_jM7ya9AA8t"
      },
      "source": [
        "## Dataset: synthetic data (15 points)\n",
        "### 1. Generate data X, y\n",
        "### 2. solve multiple lasso problems on a regularization path\n",
        "### 3. Plot the precision and recall via regularizations"
      ]
    },
    {
      "cell_type": "code",
      "execution_count": 317,
      "metadata": {
        "id": "SvoIshkOAA8t"
      },
      "outputs": [],
      "source": [
        "#TODO: generate true weight vector and weight following assignment\n",
        "def generate_true_w(d, K):\n",
        "    \"\"\"\n",
        "    Args:\n",
        "        d: int dimension of the input data X (N, d)\n",
        "        K: int, the number of useful features\n",
        "    Returns:\n",
        "        w: (d,1) weight vector\n",
        "        w0: unregularized term\n",
        "    \"\"\"\n",
        "    np.random.seed(0)\n",
        "    mu = 0;\n",
        "    w = np.zeros((d, 1))\n",
        "    w[0:K] = np.random.normal(mu, 10, (K,1))\n",
        "    w0 = 0\n",
        "    return w, w0\n",
        "\n",
        "#TODO: generate true weight vector and weight following assignment\n",
        "def generate_data(w, w0, N, d, sigma):\n",
        "    \"\"\"\n",
        "    Args:\n",
        "        w: (d,1) weight vector\n",
        "        w0: unregularized term\n",
        "        N: int, the number of data samples\n",
        "        d: int, dimension of the input data X (N, d)\n",
        "        sigma: standard deviation of gaussian noise to generate y\n",
        "    Returns:\n",
        "        X: array (N, d)\n",
        "        y: array (N, 1)\n",
        "    \"\"\"\n",
        "    np.random.seed(0)\n",
        "    X = np.random.normal(0, 1, (N, d))\n",
        "    y = X@w + w0\n",
        "    return X, y.reshape(-1, 1)\n",
        "\n",
        "\n",
        "#TODO: compute max lambda follow equation (2) in assignment document\n",
        "def compute_lambdamax(X, y):\n",
        "    \"\"\"\n",
        "    Args:\n",
        "        X: (N,d) input data\n",
        "        y: (N,1) input label\n",
        "    Returns:\n",
        "        maxreg: int, estimated max value of regularization term\n",
        "    \"\"\"\n",
        "    maxreg = 2*np.max(X.T@(y-np.mean(y)))\n",
        "    return maxreg\n",
        "\n",
        "# Using the plot function to generate plots\n",
        "def plot(regs, precision, recall):\n",
        "    fig, ax = plt.subplots(1, 2, figsize=(12,5))\n",
        "    ax[0].plot(regs, precision, label='precision')\n",
        "    ax[1].plot(regs, recall, label='recall')\n",
        "    ax[0].set_xlabel('L1 regularization strength')\n",
        "    ax[1].set_xlabel('L1 regularization strength')\n",
        "    ax[0].set_title('Precision')\n",
        "    ax[1].set_title('Recall')\n",
        "    plt.show()\n"
      ]
    },
    {
      "cell_type": "code",
      "execution_count": 318,
      "metadata": {
        "colab": {
          "base_uri": "https://localhost:8080/",
          "height": 1000
        },
        "id": "Cx6jufNIAA8v",
        "outputId": "21cd5ea0-913a-43e6-a816-412ceffe16f6"
      },
      "outputs": [
        {
          "output_type": "stream",
          "name": "stdout",
          "text": [
            "2626.3760025749793\n",
            "74222.87897739079\n",
            "76080.69082590217\n",
            "78644.91190945035\n",
            "81915.54222803538\n",
            "85892.58178165721\n",
            "90576.03057031588\n",
            "95965.88859401135\n",
            "102062.15585274363\n",
            "108864.83234651278\n",
            "116373.91807531871\n",
            "74222.87897739079\n",
            "76080.69082590217\n",
            "78644.91190945035\n",
            "81915.54222803538\n",
            "85892.58178165721\n",
            "90576.03057031588\n",
            "95965.88859401135\n",
            "102062.15585274363\n",
            "108864.83234651278\n",
            "116373.91807531871\n",
            "74222.87897739079\n",
            "76080.69082590217\n",
            "78644.91190945035\n",
            "81915.54222803538\n",
            "85892.58178165721\n",
            "90576.03057031588\n",
            "95965.88859401135\n",
            "102062.15585274363\n",
            "108864.83234651278\n",
            "116373.91807531871\n",
            "74222.87897739079\n",
            "76080.69082590217\n",
            "78644.91190945035\n",
            "81915.54222803538\n",
            "85892.58178165721\n",
            "90576.03057031588\n",
            "95965.88859401135\n",
            "102062.15585274363\n",
            "108864.83234651278\n",
            "116373.91807531871\n",
            "70010.96788208764\n",
            "71440.25425786243\n",
            "73244.37535008606\n",
            "75563.4733131001\n",
            "78154.00159236246\n",
            "80900.15631366729\n",
            "83715.07119825362\n",
            "86533.1116815448\n",
            "89305.49815857747\n",
            "91996.79413020451\n",
            "39829.73060213261\n",
            "40694.52136951115\n",
            "41024.791137052\n",
            "41207.531204588646\n",
            "41383.962684899576\n",
            "41554.83495196063\n",
            "41718.082479690485\n",
            "41872.56692272419\n",
            "42017.66288211329\n",
            "42153.10291543785\n",
            "22767.96751063946\n",
            "23034.281306089746\n",
            "23131.28486641831\n",
            "23078.994052294758\n",
            "23024.62839641821\n",
            "22983.393661307433\n",
            "22951.669997100373\n",
            "22926.91390472161\n",
            "22907.513745160803\n",
            "22892.283296424815\n",
            "12504.690990925761\n",
            "11958.561430161946\n",
            "11922.18131193915\n",
            "11831.796868571735\n",
            "11766.366322486043\n",
            "11722.808860848603\n",
            "11694.031123672701\n",
            "11675.514575347603\n",
            "11664.225605981896\n",
            "11657.993308297378\n",
            "7278.839722701331\n",
            "6171.920585044389\n",
            "6079.905509283752\n",
            "6007.129687021469\n",
            "5953.280706594185\n",
            "5911.0724503805\n",
            "5882.388583077075\n",
            "5863.215010618173\n",
            "5850.03432998545\n",
            "5841.086884911201\n",
            "4332.840570574812\n",
            "3235.235071978511\n",
            "3053.1714465169634\n",
            "3014.2047948665204\n",
            "2983.707179469463\n",
            "2962.0574447039758\n",
            "2947.061849005046\n",
            "2935.9681100833777\n",
            "2928.2461621754965\n",
            "2923.2425938141505\n",
            "2665.424461012002\n",
            "1794.271482812332\n",
            "1550.3416454101914\n",
            "1480.0804186408723\n",
            "1473.7974908246088\n",
            "1468.6234632772578\n",
            "1465.0447654626141\n",
            "1462.3380739333024\n",
            "1460.484030244149\n",
            "1459.265731207504\n",
            "1732.9172493929896\n",
            "1021.537975288136\n",
            "884.6464114138518\n",
            "806.4768661849304\n",
            "753.783549606477\n",
            "729.8574056807773\n",
            "729.5533589600597\n",
            "729.0573775719438\n",
            "728.8100585376027\n",
            "728.6797436205301\n",
            "1240.8276785127239\n",
            "593.2865810123486\n",
            "502.5893449254195\n",
            "459.7628466386239\n",
            "434.11941115752467\n",
            "415.4841368096967\n",
            "399.03477727823326\n",
            "383.5237010775104\n",
            "370.87676400445207\n",
            "364.8285442915679\n",
            "986.5670260739081\n",
            "359.14696481426733\n",
            "286.10055366067957\n",
            "256.653171340412\n",
            "241.31157921753976\n",
            "232.59859343280957\n",
            "225.8793334109644\n",
            "220.69300685429488\n",
            "216.0056368364505\n",
            "211.29696111852334\n",
            "856.8222273513638\n",
            "237.04034598385476\n",
            "169.43377614896454\n",
            "142.78620853122703\n",
            "131.5756874527392\n",
            "126.03403674397768\n",
            "122.80181822429014\n",
            "120.52168157136616\n",
            "118.55520770343878\n",
            "116.79836392366639\n",
            "791.3786569778769\n",
            "174.64620592783837\n",
            "108.69063643940797\n",
            "82.42624744516581\n",
            "72.19689249126586\n",
            "67.64209876923152\n",
            "65.31138087824148\n",
            "63.85848302153376\n",
            "62.892755509752234\n",
            "62.18441438305796\n",
            "758.4480203890565\n",
            "143.04868835557807\n",
            "77.595712043878\n",
            "51.22397654136721\n",
            "41.11888960395912\n",
            "36.944877801234156\n",
            "34.896874090657555\n",
            "33.71361050586587\n",
            "32.97490070430279\n",
            "32.475373282333926\n",
            "741.8766810636812\n",
            "127.18525989646724\n",
            "61.8711344209256\n",
            "35.37785935901787\n",
            "25.27446533566713\n",
            "21.203854356277375\n",
            "19.223309596241922\n",
            "18.097737928462383\n",
            "17.414432336531885\n",
            "16.97160747972126\n",
            "733.5774059591421\n",
            "119.2349595078977\n",
            "53.97542006913207\n",
            "27.381379970189908\n",
            "17.250920303589588\n",
            "13.204913031054435\n",
            "11.23801647823255\n",
            "10.124878510790225\n",
            "9.448552623629872\n",
            "9.015530527224781\n",
            "729.4253648175967\n",
            "115.25456816100889\n",
            "50.017946243931\n",
            "23.36820279510135\n",
            "13.224815283686183\n",
            "9.18311278881328\n",
            "7.216680320096469\n",
            "6.103232048769412\n",
            "5.423756948179392\n",
            "4.988443756590488\n"
          ]
        },
        {
          "output_type": "display_data",
          "data": {
            "text/plain": [
              "<Figure size 1200x500 with 2 Axes>"
            ],
            "image/png": "[encoded data removed]"
          },
          "metadata": {
            "image/png": {
              "width": 981,
              "height": 469
            }
          }
        }
      ],
      "source": [
        "#TODO\n",
        "# Conduct experiments in 2.2 Dataset: synthetic data\n",
        "K, d, N = 6, 80, 50\n",
        "w, w0 = generate_true_w(d=d, K=K)\n",
        "X, y = generate_data(w, w0, N=N, d=d, sigma=1)\n",
        "reg = compute_lambdamax(X, y)\n",
        "print(reg)\n",
        "\n",
        "# Feel free to change this decreasing ratio\n",
        "ratio = 2\n",
        "\n",
        "regs = np.zeros(20)\n",
        "precision = np.zeros(20)\n",
        "recall = np.zeros(20)\n",
        "for i in range(20):\n",
        "    pred_w, pred_w0 = lasso(X, y, reg)\n",
        "    if(np.count_nonzero(pred_w)==0):\n",
        "        precision[i] = 1\n",
        "    else:\n",
        "        precision[i] = np.count_nonzero(pred_w[:K])/np.count_nonzero(pred_w)\n",
        "    recall[i] = np.count_nonzero(pred_w[:K])/K\n",
        "    regs[i] = reg\n",
        "    reg = reg/ratio\n",
        "\n",
        "plot(regs, precision, recall)"
      ]
    },
    {
      "cell_type": "markdown",
      "metadata": {
        "id": "asLNVyJ-AA8w"
      },
      "source": [
        "## Dataset: Water quality data (20 points)\n",
        "### 1. Load data X, y\n",
        "## For predicting the water quality data for the first location and second location\n",
        "### 2. find good regularization coefficient, record RMSE for training data, validation data and test data\n",
        "### 3. list largest weight magnitude and the names of features"
      ]
    },
    {
      "cell_type": "code",
      "execution_count": null,
      "metadata": {
        "id": "zBgBZbnyAA8x",
        "outputId": "9e1f11d4-773f-4fc7-a61c-5ff3b0232473"
      },
      "outputs": [
        {
          "name": "stdout",
          "output_type": "stream",
          "text": [
            "X_train.shape (338, 11) X_validate.shape (85, 11) X_test.shape (282, 11)\n",
            "y_train.shape (338, 1) u_validate.shape (85, 11) y_test.shape (282, 1)\n"
          ]
        }
      ],
      "source": [
        "def prepare_set(X_train, X_test, y_train, y_test, loc=0):\n",
        "    X_train_1 = np.zeros((423, 11))\n",
        "    X_test_1 = np.zeros((282, 11))\n",
        "    for i in range(423):\n",
        "        X_train_1[i,:] = X_train[0,i][loc]\n",
        "        if i < 282: X_test_1[i,:] = X_train[0,i][loc]\n",
        "    y_train_1 = y_train[0].reshape(-1, 1)\n",
        "    y_test_1 = y_test[0].reshape(-1, 1)\n",
        "    X_train_1, X_val_1, y_train_1, y_val_1 = train_test_split(X_train_1, y_train_1, test_size=0.2, random_state=0)\n",
        "    return X_train_1, X_val_1, X_test_1, y_train_1, y_val_1, y_test_1\n",
        "\n",
        "def compute_rmse(y, ypred):\n",
        "    return np.sqrt(((y - ypred) ** 2).mean())\n",
        "\n",
        "def plot2(regs, train_rmse, val_rmse):\n",
        "    fig, ax = plt.subplots(1, 2, figsize=(12,5))\n",
        "    ax[0].plot(regs, train_rmse, label='Training RMSE')\n",
        "    ax[1].plot(regs, val_rmse, label='Validation RMSE')\n",
        "    ax[0].set_xlabel('L1 regularization strength')\n",
        "    ax[1].set_xlabel('L1 regularization strength')\n",
        "    ax[0].set_title('Training RMSE')\n",
        "    ax[1].set_title('Validation RMSE')\n",
        "    plt.show()\n",
        "\n",
        "# Read data\n",
        "data_file = \"water_dataset.mat\"   \n",
        "data = scipy.io.loadmat(data_file)\n",
        "X_train, X_test = data['X_tr'], data['X_te']\n",
        "y_train, y_test = data['Y_tr'], data['Y_te']\n",
        "\n",
        "# Change location using loc parameters\n",
        "X_train_1, X_val_1, X_test_1, y_train_1, y_val_1, y_test_1 = prepare_set(X_train, X_test, y_train, y_test, loc=0) \n",
        "\n",
        "\n",
        "print('X_train.shape', X_train_1.shape, 'X_validate.shape', X_val_1.shape, 'X_test.shape', X_test_1.shape)\n",
        "print('y_train.shape', y_train_1.shape, 'u_validate.shape', X_val_1.shape, 'y_test.shape', y_test_1.shape)"
      ]
    },
    {
      "cell_type": "code",
      "execution_count": null,
      "metadata": {
        "id": "fkARk315AA8x"
      },
      "outputs": [],
      "source": [
        "#TODO\n",
        "# Conduct experiments: 2.3 Water quality prediction"
      ]
    }
  ],
  "metadata": {
    "interpreter": {
      "hash": "5cc9548c05a244386a6d3194fd4ce0daff846e301aca00a00f7a9d28040987a3"
    },
    "kernelspec": {
      "display_name": "Python 3.8.13 64-bit ('dr': conda)",
      "name": "python3"
    },
    "language_info": {
      "codemirror_mode": {
        "name": "ipython",
        "version": 3
      },
      "file_extension": ".py",
      "mimetype": "text/x-python",
      "name": "python",
      "nbconvert_exporter": "python",
      "pygments_lexer": "ipython3",
      "version": "3.8.13"
    },
    "orig_nbformat": 4,
    "colab": {
      "provenance": []
    }
  },
  "nbformat": 4,
  "nbformat_minor": 0
}