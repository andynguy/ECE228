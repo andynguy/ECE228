{
  "cells": [
    {
      "cell_type": "markdown",
      "metadata": {
        "id": "yILF8MInAA8n"
      },
      "source": [
        "# Programming Assignment 1: LASSO\n",
        "\n",
        "### Instructor: Yuanyuan Shi\n",
        "\n",
        "### Teaching Assistants\n",
        "\n",
        "- Yuexin Bian, [yubian@ucsd.edu]\n",
        "- Tz-Ying Wu, [tzw001@ucsd.edu]\n",
        "\n",
        "## Instructions\n",
        "1. This assignment must be completed individually.  \n",
        "2. This notebook contains skeleton code, which should not be modified\n",
        "3. You must run all cells in this notebook and submit this notebook as an .ipynb file.\n",
        "4. You must submit the .ipynb on Gradescope."
      ]
    },
    {
      "cell_type": "markdown",
      "metadata": {
        "id": "o0s96T6kAA8p"
      },
      "source": [
        "## Setup"
      ]
    },
    {
      "cell_type": "code",
      "execution_count": 2,
      "metadata": {
        "id": "zQIffV5hAA8q"
      },
      "outputs": [],
      "source": [
        "import numpy as np\n",
        "from numpy import linalg\n",
        "import scipy\n",
        "from scipy.sparse import csc_matrix\n",
        "import matplotlib.pyplot as plt\n",
        "from scipy.io.arff import loadarff\n",
        "import pandas as pd\n",
        "from sklearn.model_selection import train_test_split\n",
        "import matplotlib.pyplot as plt\n",
        "%matplotlib inline\n",
        "# Comment it if you are not using mac\n",
        "# %config InlineBackend.figure_format = 'retina'\n"
      ]
    },
    {
      "cell_type": "markdown",
      "metadata": {
        "id": "_zs1YJypAA8r"
      },
      "source": [
        "## Implement coordinate descent "
      ]
    },
    {
      "cell_type": "code",
      "source": [
        "def soft_threshold(a, c, reg):\n",
        "  if (c < -reg):\n",
        "    return ((c + reg) / a)\n",
        "  elif (c > reg):\n",
        "    return ((c - reg) / a)\n",
        "  else:\n",
        "    return 0"
      ],
      "metadata": {
        "id": "-3tF1u8F-8r8"
      },
      "execution_count": 3,
      "outputs": []
    },
    {
      "cell_type": "code",
      "execution_count": 5,
      "metadata": {
        "id": "nnM1SY0uAA8s"
      },
      "outputs": [],
      "source": [
        "#TODO: You should initialize w_0 and w\n",
        "# Initialize w_0 to be 0, and initialize vector w that each element follows gaussian distribution (0, 1)\n",
        "# Implement algorithm following algorithm 1\n",
        "def lasso(X, y, reg):\n",
        "    \"\"\"\n",
        "    Args:\n",
        "        X: (N, d) \n",
        "        y: (N, 1)\n",
        "        reg: regularization coefficient lambda\n",
        "    Returns:\n",
        "        w: (d, 1) weight vector\n",
        "        w0: unregularized term\n",
        "    \"\"\"\n",
        "    X = np.copy(X)\n",
        "    np.random.seed(0)\n",
        "    N, d = X.shape\n",
        "    mu = 0\n",
        "    sigma = 1\n",
        "    w = np.random.normal(mu, sigma, (d,1))\n",
        "    w0 = 0\n",
        "    T = 100 #num iterations\n",
        "    # X_norm = X / (np.linalg.norm(X, axis = 0))\n",
        "    for t in range(T):\n",
        "      y_t = X@w + w0\n",
        "      w0_t1 = y-X@w\n",
        "      y_t = y_t - w0 + w0_t1\n",
        "      w0 = w0_t1\n",
        "      for k in range(d):\n",
        "        X_k = X[:, k].reshape(-1, 1)\n",
        "        a_k = 2*np.sum(X_k**2)\n",
        "        c_k = 2*X_k.T @ (y - (w0_t1 + X @ w - w[k]*X_k))\n",
        "\n",
        "        w[k] = soft_threshold(a_k, c_k, reg)\n",
        "\n",
        "      # loss = np.sum((X@w + w0_t1 - y)**2) + reg*np.sum(np.abs(w))\n",
        "      # print(loss)\n",
        "        \n",
        "    return w, w0"
      ]
    },
    {
      "cell_type": "code",
      "source": [
        "# K, d, N = 6, 80, 50\n",
        "# w, w0 = generate_true_w(d=d, K=K)\n",
        "# X, y = generate_data(w, w0, N=N, d=d, sigma=1)\n",
        "# X"
      ],
      "metadata": {
        "id": "SMAmVjJo2qOi"
      },
      "execution_count": 6,
      "outputs": []
    },
    {
      "cell_type": "code",
      "source": [
        "# X = np.array([[1, 2, 3],\n",
        "#               [4, 5, 6],\n",
        "#               [7, 8, 9]])\n",
        "# np.sum(X[:, 0:0])\n",
        "# mu = 1;\n",
        "# sigma = 1;\n",
        "# d = 100;\n",
        "# w = np.random.normal(mu, sigma, X.shape[1])\n",
        "# print(w)\n",
        "# print(X.shape[1])\n",
        "# np.sum(w[2:])\n",
        "\n",
        "# for i in range(3):\n",
        "#   print(i)"
      ],
      "metadata": {
        "id": "mfbdj-8YGBtq"
      },
      "execution_count": 8,
      "outputs": []
    },
    {
      "cell_type": "code",
      "source": [
        "# K = 6\n",
        "# d = 20\n",
        "# w = np.zeros((d, 1))\n",
        "# w[0:K] = np.random.normal(mu, 10, (K,1))\n",
        "# w\n"
      ],
      "metadata": {
        "id": "JdoowGx2q00G"
      },
      "execution_count": 9,
      "outputs": []
    },
    {
      "cell_type": "markdown",
      "metadata": {
        "id": "i_jM7ya9AA8t"
      },
      "source": [
        "## Dataset: synthetic data (15 points)\n",
        "### 1. Generate data X, y\n",
        "### 2. solve multiple lasso problems on a regularization path\n",
        "### 3. Plot the precision and recall via regularizations"
      ]
    },
    {
      "cell_type": "code",
      "execution_count": 23,
      "metadata": {
        "id": "SvoIshkOAA8t"
      },
      "outputs": [],
      "source": [
        "#TODO: generate true weight vector and weight following assignment\n",
        "def generate_true_w(d, K):\n",
        "    \"\"\"\n",
        "    Args:\n",
        "        d: int dimension of the input data X (N, d)\n",
        "        K: int, the number of useful features\n",
        "    Returns:\n",
        "        w: (d,1) weight vector\n",
        "        w0: unregularized term\n",
        "    \"\"\"\n",
        "    np.random.seed(0)\n",
        "    mu = 0;\n",
        "    w = np.zeros((d, 1))\n",
        "    w[0:K] = np.random.normal(mu, 10, (K,1))\n",
        "    w0 = 0\n",
        "    return w, w0\n",
        "\n",
        "#TODO: generate true weight vector and weight following assignment\n",
        "def generate_data(w, w0, N, d, sigma):\n",
        "    \"\"\"\n",
        "    Args:\n",
        "        w: (d,1) weight vector\n",
        "        w0: unregularized term\n",
        "        N: int, the number of data samples\n",
        "        d: int, dimension of the input data X (N, d)\n",
        "        sigma: standard deviation of gaussian noise to generate y\n",
        "    Returns:\n",
        "        X: array (N, d)\n",
        "        y: array (N, 1)\n",
        "    \"\"\"\n",
        "    np.random.seed(0)\n",
        "    e = np.random.normal(0, sigma**2, (N, 1))\n",
        "    X = np.random.normal(0, 1, (N, d))\n",
        "    y = X@w + w0 + e\n",
        "    return X, y.reshape(-1, 1)\n",
        "\n",
        "\n",
        "#TODO: compute max lambda follow equation (2) in assignment document\n",
        "def compute_lambdamax(X, y):\n",
        "    \"\"\"\n",
        "    Args:\n",
        "        X: (N,d) input data\n",
        "        y: (N,1) input label\n",
        "    Returns:\n",
        "        maxreg: int, estimated max value of regularization term\n",
        "    \"\"\"\n",
        "    maxreg = 2*np.max(X.T@(y-np.mean(y)))\n",
        "    return maxreg\n",
        "\n",
        "# Using the plot function to generate plots\n",
        "def plot(regs, precision, recall):\n",
        "    fig, ax = plt.subplots(1, 2, figsize=(12,5))\n",
        "    ax[0].plot(regs, precision, label='precision')\n",
        "    ax[1].plot(regs, recall, label='recall')\n",
        "    ax[0].set_xlabel('L1 regularization strength')\n",
        "    ax[1].set_xlabel('L1 regularization strength')\n",
        "    ax[0].set_title('Precision')\n",
        "    ax[1].set_title('Recall')\n",
        "    ax[0].set_xlim(0, 10)\n",
        "    ax[1].set_xlim(0, 10)\n",
        "    plt.show()\n"
      ]
    },
    {
      "cell_type": "code",
      "execution_count": 14,
      "metadata": {
        "colab": {
          "base_uri": "https://localhost:8080/"
        },
        "id": "Cx6jufNIAA8v",
        "outputId": "e349e789-485e-468a-d3d2-c19c0bb6ac03"
      },
      "outputs": [
        {
          "output_type": "stream",
          "name": "stdout",
          "text": [
            "2526.0874935682505\n"
          ]
        }
      ],
      "source": [
        "#TODO\n",
        "# Conduct experiments in 2.2 Dataset: synthetic data\n",
        "K, d, N = 6, 80, 50\n",
        "w, w0 = generate_true_w(d=d, K=K)\n",
        "X, y = generate_data(w, w0, N=N, d=d, sigma=1)\n",
        "reg = compute_lambdamax(X, y)\n",
        "regmax = reg\n",
        "print(reg)\n",
        "\n",
        "# Feel free to change this decreasing ratio\n",
        "ratio = 1.5\n",
        "\n",
        "# num of trials\n",
        "q = 50\n",
        "regs = np.zeros(q)\n",
        "precision = np.zeros(q)\n",
        "recall = np.zeros(q)\n",
        "lasso_loss = np.zeros(q)\n",
        "for i in range(q):\n",
        "    pred_w, pred_w0 = lasso(X, y, reg)\n",
        "    lasso_loss[i] = np.sum((X@pred_w + pred_w0 - y)**2) + reg*np.sum(np.abs(pred_w))\n",
        "    if(np.count_nonzero(pred_w)==0):\n",
        "        precision[i] = -1\n",
        "    else:\n",
        "        precision[i] = np.count_nonzero(pred_w[:K])/np.count_nonzero(pred_w)\n",
        "    recall[i] = np.count_nonzero(pred_w[:K])/K\n",
        "    regs[i] = reg\n",
        "    reg = reg/ratio\n"
      ]
    },
    {
      "cell_type": "code",
      "source": [
        "plot(regs, precision, recall)\n",
        "plt.plot(regs, lasso_loss)\n",
        "plt.title('Loss')\n",
        "plt.ylabel('Loss')\n",
        "plt.xlabel('Lambda')\n",
        "plt.xlim(0, 10)"
      ],
      "metadata": {
        "id": "IH0xxS6HpbtR",
        "outputId": "7febbfa3-c7c0-47d5-f756-8126f670d051",
        "colab": {
          "base_uri": "https://localhost:8080/",
          "height": 960
        }
      },
      "execution_count": 24,
      "outputs": [
        {
          "output_type": "display_data",
          "data": {
            "text/plain": [
              "<Figure size 1200x500 with 2 Axes>"
            ],
            "image/png": "[encoded data removed]"
          },
          "metadata": {}
        },
        {
          "output_type": "execute_result",
          "data": {
            "text/plain": [
              "(0.0, 10.0)"
            ]
          },
          "metadata": {},
          "execution_count": 24
        },
        {
          "output_type": "display_data",
          "data": {
            "text/plain": [
              "<Figure size 640x480 with 1 Axes>"
            ],
            "image/png": "[encoded data removed]"
          },
          "metadata": {}
        }
      ]
    },
    {
      "cell_type": "code",
      "source": [
        "print(precision)\n",
        "print(recall)\n",
        "print(regs)\n",
        "i = np.argmax(precision*recall)\n",
        "print(lasso_loss)\n",
        "\n",
        "w_star, w0_star = lasso(X, y, regs[i])\n",
        "loss = np.sum((X@w_star + w0_star - y)**2) + reg*np.sum(np.abs(w_star))\n",
        "print(loss)\n",
        "print(regs[i])\n",
        "# print(w0_star)\n",
        "# print(w_star)"
      ],
      "metadata": {
        "id": "1kz4ffZks-LH",
        "outputId": "3a4ce170-18a8-4c17-c5a6-39df63cc0b9f",
        "colab": {
          "base_uri": "https://localhost:8080/"
        }
      },
      "execution_count": 16,
      "outputs": [
        {
          "output_type": "stream",
          "name": "stdout",
          "text": [
            "[-1.         -1.         -1.         -1.         -1.         -1.\n",
            " -1.         -1.         -1.         -1.         -1.         -1.\n",
            " -1.         -1.         -1.         -1.         -1.          0.\n",
            "  0.17647059  0.10344828  0.12820513  0.10204082  0.08474576  0.0952381\n",
            "  0.08333333  0.08        0.07792208  0.07692308  0.07692308  0.075\n",
            "  0.075       0.075       0.075       0.075       0.075       0.075\n",
            "  0.075       0.075       0.075       0.075       0.075       0.075\n",
            "  0.075       0.075       0.075       0.075       0.075       0.075\n",
            "  0.075       0.075     ]\n",
            "[0.         0.         0.         0.         0.         0.\n",
            " 0.         0.         0.         0.         0.         0.\n",
            " 0.         0.         0.         0.         0.         0.\n",
            " 0.5        0.5        0.83333333 0.83333333 0.83333333 1.\n",
            " 1.         1.         1.         1.         1.         1.\n",
            " 1.         1.         1.         1.         1.         1.\n",
            " 1.         1.         1.         1.         1.         1.\n",
            " 1.         1.         1.         1.         1.         1.\n",
            " 1.         1.        ]\n",
            "[2.52608749e+03 1.68405833e+03 1.12270555e+03 7.48470368e+02\n",
            " 4.98980246e+02 3.32653497e+02 2.21768998e+02 1.47845999e+02\n",
            " 9.85639991e+01 6.57093328e+01 4.38062218e+01 2.92041479e+01\n",
            " 1.94694319e+01 1.29796213e+01 8.65308086e+00 5.76872057e+00\n",
            " 3.84581371e+00 2.56387581e+00 1.70925054e+00 1.13950036e+00\n",
            " 7.59666907e-01 5.06444604e-01 3.37629736e-01 2.25086491e-01\n",
            " 1.50057661e-01 1.00038440e-01 6.66922936e-02 4.44615291e-02\n",
            " 2.96410194e-02 1.97606796e-02 1.31737864e-02 8.78252426e-03\n",
            " 5.85501617e-03 3.90334411e-03 2.60222941e-03 1.73481961e-03\n",
            " 1.15654640e-03 7.71030936e-04 5.14020624e-04 3.42680416e-04\n",
            " 2.28453611e-04 1.52302407e-04 1.01534938e-04 6.76899587e-05\n",
            " 4.51266392e-05 3.00844261e-05 2.00562841e-05 1.33708560e-05\n",
            " 8.91390403e-06 5.94260269e-06]\n",
            "[0.00000000e+00 0.00000000e+00 0.00000000e+00 0.00000000e+00\n",
            " 0.00000000e+00 0.00000000e+00 0.00000000e+00 0.00000000e+00\n",
            " 0.00000000e+00 0.00000000e+00 0.00000000e+00 0.00000000e+00\n",
            " 0.00000000e+00 0.00000000e+00 0.00000000e+00 0.00000000e+00\n",
            " 0.00000000e+00 1.98833523e+00 1.10892110e+01 1.67312031e+01\n",
            " 1.76749796e+01 1.66126037e+01 1.38817163e+01 1.06272475e+01\n",
            " 7.81848863e+00 5.57645239e+00 3.89146671e+00 2.67416187e+00\n",
            " 1.81834277e+00 1.22844313e+00 8.26294901e-01 5.54122296e-01\n",
            " 3.70863321e-01 2.47885973e-01 1.65543430e-01 1.10489449e-01\n",
            " 7.37161492e-02 4.91692179e-02 3.27906424e-02 2.18653899e-02\n",
            " 1.45791318e-02 9.72040128e-03 6.48070311e-03 4.32066234e-03\n",
            " 2.88052760e-03 1.92038998e-03 1.28027698e-03 8.53525541e-04\n",
            " 5.69020384e-04 3.79348415e-04]\n",
            "0.07564815048475937\n",
            "0.7596669065331811\n"
          ]
        }
      ]
    },
    {
      "cell_type": "markdown",
      "metadata": {
        "id": "asLNVyJ-AA8w"
      },
      "source": [
        "## Dataset: Water quality data (20 points)\n",
        "### 1. Load data X, y\n",
        "## For predicting the water quality data for the first location and second location\n",
        "### 2. find good regularization coefficient, record RMSE for training data, validation data and test data\n",
        "### 3. list largest weight magnitude and the names of features"
      ]
    },
    {
      "cell_type": "code",
      "execution_count": null,
      "metadata": {
        "id": "zBgBZbnyAA8x",
        "outputId": "b1726f25-9571-415b-98db-f4715b31dc86",
        "colab": {
          "base_uri": "https://localhost:8080/",
          "height": 445
        }
      },
      "outputs": [
        {
          "output_type": "error",
          "ename": "FileNotFoundError",
          "evalue": "ignored",
          "traceback": [
            "\u001b[0;31m---------------------------------------------------------------------------\u001b[0m",
            "\u001b[0;31mFileNotFoundError\u001b[0m                         Traceback (most recent call last)",
            "\u001b[0;32m/usr/local/lib/python3.9/dist-packages/scipy/io/matlab/_mio.py\u001b[0m in \u001b[0;36m_open_file\u001b[0;34m(file_like, appendmat, mode)\u001b[0m\n\u001b[1;32m     38\u001b[0m     \u001b[0;32mtry\u001b[0m\u001b[0;34m:\u001b[0m\u001b[0;34m\u001b[0m\u001b[0;34m\u001b[0m\u001b[0m\n\u001b[0;32m---> 39\u001b[0;31m         \u001b[0;32mreturn\u001b[0m \u001b[0mopen\u001b[0m\u001b[0;34m(\u001b[0m\u001b[0mfile_like\u001b[0m\u001b[0;34m,\u001b[0m \u001b[0mmode\u001b[0m\u001b[0;34m)\u001b[0m\u001b[0;34m,\u001b[0m \u001b[0;32mTrue\u001b[0m\u001b[0;34m\u001b[0m\u001b[0;34m\u001b[0m\u001b[0m\n\u001b[0m\u001b[1;32m     40\u001b[0m     \u001b[0;32mexcept\u001b[0m \u001b[0mOSError\u001b[0m \u001b[0;32mas\u001b[0m \u001b[0me\u001b[0m\u001b[0;34m:\u001b[0m\u001b[0;34m\u001b[0m\u001b[0;34m\u001b[0m\u001b[0m\n",
            "\u001b[0;31mFileNotFoundError\u001b[0m: [Errno 2] No such file or directory: 'water_dataset.mat'",
            "\nDuring handling of the above exception, another exception occurred:\n",
            "\u001b[0;31mFileNotFoundError\u001b[0m                         Traceback (most recent call last)",
            "\u001b[0;32m<ipython-input-10-f4fc69e9d7ba>\u001b[0m in \u001b[0;36m<cell line: 27>\u001b[0;34m()\u001b[0m\n\u001b[1;32m     25\u001b[0m \u001b[0;31m# Read data\u001b[0m\u001b[0;34m\u001b[0m\u001b[0;34m\u001b[0m\u001b[0m\n\u001b[1;32m     26\u001b[0m \u001b[0mdata_file\u001b[0m \u001b[0;34m=\u001b[0m \u001b[0;34m\"water_dataset.mat\"\u001b[0m\u001b[0;34m\u001b[0m\u001b[0;34m\u001b[0m\u001b[0m\n\u001b[0;32m---> 27\u001b[0;31m \u001b[0mdata\u001b[0m \u001b[0;34m=\u001b[0m \u001b[0mscipy\u001b[0m\u001b[0;34m.\u001b[0m\u001b[0mio\u001b[0m\u001b[0;34m.\u001b[0m\u001b[0mloadmat\u001b[0m\u001b[0;34m(\u001b[0m\u001b[0mdata_file\u001b[0m\u001b[0;34m)\u001b[0m\u001b[0;34m\u001b[0m\u001b[0;34m\u001b[0m\u001b[0m\n\u001b[0m\u001b[1;32m     28\u001b[0m \u001b[0mX_train\u001b[0m\u001b[0;34m,\u001b[0m \u001b[0mX_test\u001b[0m \u001b[0;34m=\u001b[0m \u001b[0mdata\u001b[0m\u001b[0;34m[\u001b[0m\u001b[0;34m'X_tr'\u001b[0m\u001b[0;34m]\u001b[0m\u001b[0;34m,\u001b[0m \u001b[0mdata\u001b[0m\u001b[0;34m[\u001b[0m\u001b[0;34m'X_te'\u001b[0m\u001b[0;34m]\u001b[0m\u001b[0;34m\u001b[0m\u001b[0;34m\u001b[0m\u001b[0m\n\u001b[1;32m     29\u001b[0m \u001b[0my_train\u001b[0m\u001b[0;34m,\u001b[0m \u001b[0my_test\u001b[0m \u001b[0;34m=\u001b[0m \u001b[0mdata\u001b[0m\u001b[0;34m[\u001b[0m\u001b[0;34m'Y_tr'\u001b[0m\u001b[0;34m]\u001b[0m\u001b[0;34m,\u001b[0m \u001b[0mdata\u001b[0m\u001b[0;34m[\u001b[0m\u001b[0;34m'Y_te'\u001b[0m\u001b[0;34m]\u001b[0m\u001b[0;34m\u001b[0m\u001b[0;34m\u001b[0m\u001b[0m\n",
            "\u001b[0;32m/usr/local/lib/python3.9/dist-packages/scipy/io/matlab/_mio.py\u001b[0m in \u001b[0;36mloadmat\u001b[0;34m(file_name, mdict, appendmat, **kwargs)\u001b[0m\n\u001b[1;32m    223\u001b[0m     \"\"\"\n\u001b[1;32m    224\u001b[0m     \u001b[0mvariable_names\u001b[0m \u001b[0;34m=\u001b[0m \u001b[0mkwargs\u001b[0m\u001b[0;34m.\u001b[0m\u001b[0mpop\u001b[0m\u001b[0;34m(\u001b[0m\u001b[0;34m'variable_names'\u001b[0m\u001b[0;34m,\u001b[0m \u001b[0;32mNone\u001b[0m\u001b[0;34m)\u001b[0m\u001b[0;34m\u001b[0m\u001b[0;34m\u001b[0m\u001b[0m\n\u001b[0;32m--> 225\u001b[0;31m     \u001b[0;32mwith\u001b[0m \u001b[0m_open_file_context\u001b[0m\u001b[0;34m(\u001b[0m\u001b[0mfile_name\u001b[0m\u001b[0;34m,\u001b[0m \u001b[0mappendmat\u001b[0m\u001b[0;34m)\u001b[0m \u001b[0;32mas\u001b[0m \u001b[0mf\u001b[0m\u001b[0;34m:\u001b[0m\u001b[0;34m\u001b[0m\u001b[0;34m\u001b[0m\u001b[0m\n\u001b[0m\u001b[1;32m    226\u001b[0m         \u001b[0mMR\u001b[0m\u001b[0;34m,\u001b[0m \u001b[0m_\u001b[0m \u001b[0;34m=\u001b[0m \u001b[0mmat_reader_factory\u001b[0m\u001b[0;34m(\u001b[0m\u001b[0mf\u001b[0m\u001b[0;34m,\u001b[0m \u001b[0;34m**\u001b[0m\u001b[0mkwargs\u001b[0m\u001b[0;34m)\u001b[0m\u001b[0;34m\u001b[0m\u001b[0;34m\u001b[0m\u001b[0m\n\u001b[1;32m    227\u001b[0m         \u001b[0mmatfile_dict\u001b[0m \u001b[0;34m=\u001b[0m \u001b[0mMR\u001b[0m\u001b[0;34m.\u001b[0m\u001b[0mget_variables\u001b[0m\u001b[0;34m(\u001b[0m\u001b[0mvariable_names\u001b[0m\u001b[0;34m)\u001b[0m\u001b[0;34m\u001b[0m\u001b[0;34m\u001b[0m\u001b[0m\n",
            "\u001b[0;32m/usr/lib/python3.9/contextlib.py\u001b[0m in \u001b[0;36m__enter__\u001b[0;34m(self)\u001b[0m\n\u001b[1;32m    117\u001b[0m         \u001b[0;32mdel\u001b[0m \u001b[0mself\u001b[0m\u001b[0;34m.\u001b[0m\u001b[0margs\u001b[0m\u001b[0;34m,\u001b[0m \u001b[0mself\u001b[0m\u001b[0;34m.\u001b[0m\u001b[0mkwds\u001b[0m\u001b[0;34m,\u001b[0m \u001b[0mself\u001b[0m\u001b[0;34m.\u001b[0m\u001b[0mfunc\u001b[0m\u001b[0;34m\u001b[0m\u001b[0;34m\u001b[0m\u001b[0m\n\u001b[1;32m    118\u001b[0m         \u001b[0;32mtry\u001b[0m\u001b[0;34m:\u001b[0m\u001b[0;34m\u001b[0m\u001b[0;34m\u001b[0m\u001b[0m\n\u001b[0;32m--> 119\u001b[0;31m             \u001b[0;32mreturn\u001b[0m \u001b[0mnext\u001b[0m\u001b[0;34m(\u001b[0m\u001b[0mself\u001b[0m\u001b[0;34m.\u001b[0m\u001b[0mgen\u001b[0m\u001b[0;34m)\u001b[0m\u001b[0;34m\u001b[0m\u001b[0;34m\u001b[0m\u001b[0m\n\u001b[0m\u001b[1;32m    120\u001b[0m         \u001b[0;32mexcept\u001b[0m \u001b[0mStopIteration\u001b[0m\u001b[0;34m:\u001b[0m\u001b[0;34m\u001b[0m\u001b[0;34m\u001b[0m\u001b[0m\n\u001b[1;32m    121\u001b[0m             \u001b[0;32mraise\u001b[0m \u001b[0mRuntimeError\u001b[0m\u001b[0;34m(\u001b[0m\u001b[0;34m\"generator didn't yield\"\u001b[0m\u001b[0;34m)\u001b[0m \u001b[0;32mfrom\u001b[0m \u001b[0;32mNone\u001b[0m\u001b[0;34m\u001b[0m\u001b[0;34m\u001b[0m\u001b[0m\n",
            "\u001b[0;32m/usr/local/lib/python3.9/dist-packages/scipy/io/matlab/_mio.py\u001b[0m in \u001b[0;36m_open_file_context\u001b[0;34m(file_like, appendmat, mode)\u001b[0m\n\u001b[1;32m     15\u001b[0m \u001b[0;34m@\u001b[0m\u001b[0mcontextmanager\u001b[0m\u001b[0;34m\u001b[0m\u001b[0;34m\u001b[0m\u001b[0m\n\u001b[1;32m     16\u001b[0m \u001b[0;32mdef\u001b[0m \u001b[0m_open_file_context\u001b[0m\u001b[0;34m(\u001b[0m\u001b[0mfile_like\u001b[0m\u001b[0;34m,\u001b[0m \u001b[0mappendmat\u001b[0m\u001b[0;34m,\u001b[0m \u001b[0mmode\u001b[0m\u001b[0;34m=\u001b[0m\u001b[0;34m'rb'\u001b[0m\u001b[0;34m)\u001b[0m\u001b[0;34m:\u001b[0m\u001b[0;34m\u001b[0m\u001b[0;34m\u001b[0m\u001b[0m\n\u001b[0;32m---> 17\u001b[0;31m     \u001b[0mf\u001b[0m\u001b[0;34m,\u001b[0m \u001b[0mopened\u001b[0m \u001b[0;34m=\u001b[0m \u001b[0m_open_file\u001b[0m\u001b[0;34m(\u001b[0m\u001b[0mfile_like\u001b[0m\u001b[0;34m,\u001b[0m \u001b[0mappendmat\u001b[0m\u001b[0;34m,\u001b[0m \u001b[0mmode\u001b[0m\u001b[0;34m)\u001b[0m\u001b[0;34m\u001b[0m\u001b[0;34m\u001b[0m\u001b[0m\n\u001b[0m\u001b[1;32m     18\u001b[0m     \u001b[0;32mtry\u001b[0m\u001b[0;34m:\u001b[0m\u001b[0;34m\u001b[0m\u001b[0;34m\u001b[0m\u001b[0m\n\u001b[1;32m     19\u001b[0m         \u001b[0;32myield\u001b[0m \u001b[0mf\u001b[0m\u001b[0;34m\u001b[0m\u001b[0;34m\u001b[0m\u001b[0m\n",
            "\u001b[0;32m/usr/local/lib/python3.9/dist-packages/scipy/io/matlab/_mio.py\u001b[0m in \u001b[0;36m_open_file\u001b[0;34m(file_like, appendmat, mode)\u001b[0m\n\u001b[1;32m     43\u001b[0m             \u001b[0;32mif\u001b[0m \u001b[0mappendmat\u001b[0m \u001b[0;32mand\u001b[0m \u001b[0;32mnot\u001b[0m \u001b[0mfile_like\u001b[0m\u001b[0;34m.\u001b[0m\u001b[0mendswith\u001b[0m\u001b[0;34m(\u001b[0m\u001b[0;34m'.mat'\u001b[0m\u001b[0;34m)\u001b[0m\u001b[0;34m:\u001b[0m\u001b[0;34m\u001b[0m\u001b[0;34m\u001b[0m\u001b[0m\n\u001b[1;32m     44\u001b[0m                 \u001b[0mfile_like\u001b[0m \u001b[0;34m+=\u001b[0m \u001b[0;34m'.mat'\u001b[0m\u001b[0;34m\u001b[0m\u001b[0;34m\u001b[0m\u001b[0m\n\u001b[0;32m---> 45\u001b[0;31m             \u001b[0;32mreturn\u001b[0m \u001b[0mopen\u001b[0m\u001b[0;34m(\u001b[0m\u001b[0mfile_like\u001b[0m\u001b[0;34m,\u001b[0m \u001b[0mmode\u001b[0m\u001b[0;34m)\u001b[0m\u001b[0;34m,\u001b[0m \u001b[0;32mTrue\u001b[0m\u001b[0;34m\u001b[0m\u001b[0;34m\u001b[0m\u001b[0m\n\u001b[0m\u001b[1;32m     46\u001b[0m         \u001b[0;32melse\u001b[0m\u001b[0;34m:\u001b[0m\u001b[0;34m\u001b[0m\u001b[0;34m\u001b[0m\u001b[0m\n\u001b[1;32m     47\u001b[0m             raise OSError(\n",
            "\u001b[0;31mFileNotFoundError\u001b[0m: [Errno 2] No such file or directory: 'water_dataset.mat'"
          ]
        }
      ],
      "source": [
        "def prepare_set(X_train, X_test, y_train, y_test, loc=0):\n",
        "    X_train_1 = np.zeros((423, 11))\n",
        "    X_test_1 = np.zeros((282, 11))\n",
        "    for i in range(423):\n",
        "        X_train_1[i,:] = X_train[0,i][loc]\n",
        "        if i < 282: X_test_1[i,:] = X_train[0,i][loc]\n",
        "    y_train_1 = y_train[0].reshape(-1, 1)\n",
        "    y_test_1 = y_test[0].reshape(-1, 1)\n",
        "    X_train_1, X_val_1, y_train_1, y_val_1 = train_test_split(X_train_1, y_train_1, test_size=0.2, random_state=0)\n",
        "    return X_train_1, X_val_1, X_test_1, y_train_1, y_val_1, y_test_1\n",
        "\n",
        "def compute_rmse(y, ypred):\n",
        "    return np.sqrt(((y - ypred) ** 2).mean())\n",
        "\n",
        "def plot2(regs, train_rmse, val_rmse):\n",
        "    fig, ax = plt.subplots(1, 2, figsize=(12,5))\n",
        "    ax[0].plot(regs, train_rmse, label='Training RMSE')\n",
        "    ax[1].plot(regs, val_rmse, label='Validation RMSE')\n",
        "    ax[0].set_xlabel('L1 regularization strength')\n",
        "    ax[1].set_xlabel('L1 regularization strength')\n",
        "    ax[0].set_title('Training RMSE')\n",
        "    ax[1].set_title('Validation RMSE')\n",
        "    plt.show()\n",
        "\n",
        "# Read data\n",
        "data_file = \"water_dataset.mat\"   \n",
        "data = scipy.io.loadmat(data_file)\n",
        "X_train, X_test = data['X_tr'], data['X_te']\n",
        "y_train, y_test = data['Y_tr'], data['Y_te']\n",
        "\n",
        "# Change location using loc parameters\n",
        "X_train_1, X_val_1, X_test_1, y_train_1, y_val_1, y_test_1 = prepare_set(X_train, X_test, y_train, y_test, loc=0) \n",
        "\n",
        "\n",
        "print('X_train.shape', X_train_1.shape, 'X_validate.shape', X_val_1.shape, 'X_test.shape', X_test_1.shape)\n",
        "print('y_train.shape', y_train_1.shape, 'u_validate.shape', X_val_1.shape, 'y_test.shape', y_test_1.shape)"
      ]
    },
    {
      "cell_type": "code",
      "execution_count": null,
      "metadata": {
        "id": "fkARk315AA8x"
      },
      "outputs": [],
      "source": [
        "#TODO\n",
        "# Conduct experiments: 2.3 Water quality prediction"
      ]
    }
  ],
  "metadata": {
    "interpreter": {
      "hash": "5cc9548c05a244386a6d3194fd4ce0daff846e301aca00a00f7a9d28040987a3"
    },
    "kernelspec": {
      "display_name": "Python 3.8.13 64-bit ('dr': conda)",
      "name": "python3"
    },
    "language_info": {
      "codemirror_mode": {
        "name": "ipython",
        "version": 3
      },
      "file_extension": ".py",
      "mimetype": "text/x-python",
      "name": "python",
      "nbconvert_exporter": "python",
      "pygments_lexer": "ipython3",
      "version": "3.8.13"
    },
    "orig_nbformat": 4,
    "colab": {
      "provenance": []
    }
  },
  "nbformat": 4,
  "nbformat_minor": 0
}