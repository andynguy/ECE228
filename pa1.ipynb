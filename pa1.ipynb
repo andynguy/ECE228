{
  "cells": [
    {
      "cell_type": "markdown",
      "metadata": {
        "id": "yILF8MInAA8n"
      },
      "source": [
        "# Programming Assignment 1: LASSO\n",
        "\n",
        "### Instructor: Yuanyuan Shi\n",
        "\n",
        "### Teaching Assistants\n",
        "\n",
        "- Yuexin Bian, [yubian@ucsd.edu]\n",
        "- Tz-Ying Wu, [tzw001@ucsd.edu]\n",
        "\n",
        "## Instructions\n",
        "1. This assignment must be completed individually.  \n",
        "2. This notebook contains skeleton code, which should not be modified\n",
        "3. You must run all cells in this notebook and submit this notebook as an .ipynb file.\n",
        "4. You must submit the .ipynb on Gradescope."
      ]
    },
    {
      "cell_type": "markdown",
      "metadata": {
        "id": "o0s96T6kAA8p"
      },
      "source": [
        "## Setup"
      ]
    },
    {
      "cell_type": "code",
      "execution_count": 53,
      "metadata": {
        "id": "zQIffV5hAA8q"
      },
      "outputs": [],
      "source": [
        "import numpy as np\n",
        "from numpy import linalg\n",
        "import scipy\n",
        "from scipy.sparse import csc_matrix\n",
        "import matplotlib.pyplot as plt\n",
        "from scipy.io.arff import loadarff\n",
        "import pandas as pd\n",
        "from sklearn.model_selection import train_test_split\n",
        "%matplotlib inline\n",
        "# Comment it if you are not using mac\n",
        "# %config InlineBackend.figure_format = 'retina'\n"
      ]
    },
    {
      "cell_type": "markdown",
      "metadata": {
        "id": "_zs1YJypAA8r"
      },
      "source": [
        "## Implement coordinate descent "
      ]
    },
    {
      "cell_type": "code",
      "source": [
        "def soft_threshold(a, c, reg):\n",
        "  if (c < -reg):\n",
        "    return (c + reg) / a\n",
        "  elif (c > reg):\n",
        "    return (c - reg) / a\n",
        "  else:\n",
        "    return 0"
      ],
      "metadata": {
        "id": "-3tF1u8F-8r8"
      },
      "execution_count": 179,
      "outputs": []
    },
    {
      "cell_type": "code",
      "execution_count": 244,
      "metadata": {
        "id": "nnM1SY0uAA8s"
      },
      "outputs": [],
      "source": [
        "#TODO: You should initialize w_0 and w\n",
        "# Initialize w_0 to be 0, and initialize vector w that each element follows gaussian distribution (0, 1)\n",
        "# Implement algorithm following algorithm 1\n",
        "def lasso(X, y, reg):\n",
        "    \"\"\"\n",
        "    Args:\n",
        "        X: (N, d) \n",
        "        y: (N, 1)\n",
        "        reg: regularization coefficient lambda\n",
        "    Returns:\n",
        "        w: (d, 1) weight vector\n",
        "        w0: unregularized term\n",
        "    \"\"\"\n",
        "    np.random.seed(0)\n",
        "    N, d = X.shape\n",
        "    mu = 0\n",
        "    sigma = 1\n",
        "    w = np.random.normal(mu, sigma, (d,1))\n",
        "    w0 = 0\n",
        "    T = 5 #num iterations\n",
        "    X_norm = X / (np.linalg.norm(X, axis = 0))\n",
        "    for t in range(T):\n",
        "      y_t = X_norm@w + w0\n",
        "      w0_t1 = -np.mean(y-y_t)\n",
        "      y_t = y_t - w0 + w0_t1\n",
        "      w0 = w0_t1\n",
        "      for k in range(d):\n",
        "        a_k = 2*np.sum(X[:, k]**2)\n",
        "        # c_k = 2*np.sum(X[:, k]*(y - (w0_t1 + np.sum(X[:, 0:d]@w[0:d]) + np.sum(X[:, d+1:]@w[d+1:]))))\n",
        "        # c_k = 2*X[:, k]@y - 2*np.sum(X[:, k]*-(w0_t1 + np.sum(X[:, 0:k]@w[0:k]) + np.sum(X[:, k+1:]@w[k+1:])))\n",
        "        # w[k] = (c_k - reg) / a_k\n",
        "\n",
        "        X_k = X_norm[:, k].reshape(-1, 1)\n",
        "        # a_k = 2*np.sum(X_k**2)\n",
        "        # c_k = 2*X_k.T @ (y - w0 - X[:, 0:k] @ w[0:k] - X[:, k+1:] @ w[k+1:])\n",
        "        # print(c_k)\n",
        "        \n",
        "        c_k = X_k.T @ (y - (w0_t1 + X_norm @ w - X_k@w[k].reshape(-1,1)))\n",
        "        # print(X_k.T.shape)\n",
        "        # print((y - (w0_t1 + X @ w - X_k@w[k])).shape)\n",
        "        # print(y.shape)\n",
        "        # print((w0_t1 + X @ w - X_k@w[k]).shape)\n",
        "        # print((X_norm@w).shape)\n",
        "        # print((X_k @ w[k]).shape)\n",
        "        # print(c_k.shape)\n",
        "        \n",
        "        w[k] = soft_threshold(a_k, c_k, reg)\n",
        "\n",
        "      loss = np.sum((X@w + w0 - y)**2) + reg*np.sum(w)\n",
        "      # print(loss)\n",
        "        \n",
        "    return w, w0"
      ]
    },
    {
      "cell_type": "code",
      "source": [
        "K, d, N = 6, 80, 50\n",
        "w, w0 = generate_true_w(d=d, K=K)\n",
        "X, y = generate_data(w, w0, N=N, d=d, sigma=1)\n"
      ],
      "metadata": {
        "id": "SMAmVjJo2qOi"
      },
      "execution_count": 245,
      "outputs": []
    },
    {
      "cell_type": "code",
      "source": [
        "lasso(X, y, 100)"
      ],
      "metadata": {
        "id": "0hH9c7rbOiVr",
        "outputId": "bb2e187c-aca7-4830-b6e3-9b4ba0b5443e",
        "colab": {
          "base_uri": "https://localhost:8080/"
        }
      },
      "execution_count": 246,
      "outputs": [
        {
          "output_type": "execute_result",
          "data": {
            "text/plain": [
              "(array([[ 0.52608666],\n",
              "        [ 0.        ],\n",
              "        [ 0.        ],\n",
              "        [ 0.92115692],\n",
              "        [ 0.7473083 ],\n",
              "        [ 0.        ],\n",
              "        [ 0.        ],\n",
              "        [ 0.        ],\n",
              "        [ 0.        ],\n",
              "        [ 0.        ],\n",
              "        [ 0.        ],\n",
              "        [ 0.        ],\n",
              "        [ 0.        ],\n",
              "        [ 0.        ],\n",
              "        [ 0.        ],\n",
              "        [ 0.        ],\n",
              "        [ 0.        ],\n",
              "        [ 0.        ],\n",
              "        [ 0.        ],\n",
              "        [ 0.        ],\n",
              "        [ 0.        ],\n",
              "        [ 0.        ],\n",
              "        [ 0.        ],\n",
              "        [ 0.        ],\n",
              "        [ 0.        ],\n",
              "        [ 0.        ],\n",
              "        [ 0.        ],\n",
              "        [ 0.        ],\n",
              "        [ 0.        ],\n",
              "        [ 0.        ],\n",
              "        [ 0.        ],\n",
              "        [ 0.        ],\n",
              "        [ 0.        ],\n",
              "        [-0.01439205],\n",
              "        [ 0.        ],\n",
              "        [ 0.        ],\n",
              "        [ 0.        ],\n",
              "        [ 0.        ],\n",
              "        [ 0.        ],\n",
              "        [ 0.        ],\n",
              "        [ 0.        ],\n",
              "        [ 0.        ],\n",
              "        [ 0.        ],\n",
              "        [ 0.        ],\n",
              "        [ 0.        ],\n",
              "        [ 0.        ],\n",
              "        [ 0.        ],\n",
              "        [ 0.        ],\n",
              "        [ 0.        ],\n",
              "        [ 0.        ],\n",
              "        [ 0.        ],\n",
              "        [ 0.        ],\n",
              "        [ 0.        ],\n",
              "        [ 0.        ],\n",
              "        [ 0.        ],\n",
              "        [ 0.        ],\n",
              "        [ 0.        ],\n",
              "        [ 0.        ],\n",
              "        [ 0.        ],\n",
              "        [ 0.        ],\n",
              "        [ 0.        ],\n",
              "        [ 0.        ],\n",
              "        [ 0.        ],\n",
              "        [ 0.        ],\n",
              "        [ 0.        ],\n",
              "        [ 0.        ],\n",
              "        [ 0.        ],\n",
              "        [ 0.        ],\n",
              "        [ 0.        ],\n",
              "        [ 0.        ],\n",
              "        [ 0.        ],\n",
              "        [ 0.        ],\n",
              "        [ 0.        ],\n",
              "        [ 0.        ],\n",
              "        [ 0.        ],\n",
              "        [ 0.        ],\n",
              "        [ 0.        ],\n",
              "        [ 0.        ],\n",
              "        [ 0.        ],\n",
              "        [ 0.        ]]),\n",
              " 13.557569370263936)"
            ]
          },
          "metadata": {},
          "execution_count": 246
        }
      ]
    },
    {
      "cell_type": "code",
      "source": [
        "# X = np.array([[1, 2, 3],\n",
        "#               [4, 5, 6],\n",
        "#               [7, 8, 9]])\n",
        "# np.sum(X[:, 0:0])\n",
        "# mu = 1;\n",
        "# sigma = 1;\n",
        "# d = 100;\n",
        "# w = np.random.normal(mu, sigma, X.shape[1])\n",
        "# print(w)\n",
        "# print(X.shape[1])\n",
        "# np.sum(w[2:])\n",
        "\n",
        "# for i in range(3):\n",
        "#   print(i)"
      ],
      "metadata": {
        "id": "mfbdj-8YGBtq"
      },
      "execution_count": 236,
      "outputs": []
    },
    {
      "cell_type": "code",
      "source": [
        "# K = 6\n",
        "# d = 20\n",
        "# w = np.zeros((d, 1))\n",
        "# w[0:K] = np.random.normal(mu, 10, (K,1))\n",
        "# w\n"
      ],
      "metadata": {
        "id": "JdoowGx2q00G"
      },
      "execution_count": 183,
      "outputs": []
    },
    {
      "cell_type": "markdown",
      "metadata": {
        "id": "i_jM7ya9AA8t"
      },
      "source": [
        "## Dataset: synthetic data (15 points)\n",
        "### 1. Generate data X, y\n",
        "### 2. solve multiple lasso problems on a regularization path\n",
        "### 3. Plot the precision and recall via regularizations"
      ]
    },
    {
      "cell_type": "code",
      "execution_count": 210,
      "metadata": {
        "id": "SvoIshkOAA8t"
      },
      "outputs": [],
      "source": [
        "#TODO: generate true weight vector and weight following assignment\n",
        "def generate_true_w(d, K):\n",
        "    \"\"\"\n",
        "    Args:\n",
        "        d: int dimension of the input data X (N, d)\n",
        "        K: int, the number of useful features\n",
        "    Returns:\n",
        "        w: (d,1) weight vector\n",
        "        w0: unregularized term\n",
        "    \"\"\"\n",
        "    np.random.seed(0)\n",
        "    mu = 0;\n",
        "    w = np.zeros((d, 1))\n",
        "    w[0:K] = np.random.normal(mu, 10, (K,1))\n",
        "    w0 = 0\n",
        "    return w, w0\n",
        "\n",
        "#TODO: generate true weight vector and weight following assignment\n",
        "def generate_data(w, w0, N, d, sigma):\n",
        "    \"\"\"\n",
        "    Args:\n",
        "        w: (d,1) weight vector\n",
        "        w0: unregularized term\n",
        "        N: int, the number of data samples\n",
        "        d: int, dimension of the input data X (N, d)\n",
        "        sigma: standard deviation of gaussian noise to generate y\n",
        "    Returns:\n",
        "        X: array (N, d)\n",
        "        y: array (N, 1)\n",
        "    \"\"\"\n",
        "    np.random.seed(0)\n",
        "    X = np.random.normal(0, 1, (N, d))\n",
        "    y = X@w + w0\n",
        "    return X, y.reshape(-1, 1)\n",
        "\n",
        "\n",
        "#TODO: compute max lambda follow equation (2) in assignment document\n",
        "def compute_lambdamax(X, y):\n",
        "    \"\"\"\n",
        "    Args:\n",
        "        X: (N,d) input data\n",
        "        y: (N,1) input label\n",
        "    Returns:\n",
        "        maxreg: int, estimated max value of regularization term\n",
        "    \"\"\"\n",
        "    maxreg = 2*np.max(X.T@(y-np.mean(y)))\n",
        "    return maxreg\n",
        "\n",
        "# Using the plot function to generate plots\n",
        "def plot(regs, precision, recall):\n",
        "    fig, ax = plt.subplots(1, 2, figsize=(12,5))\n",
        "    ax[0].plot(regs, precision, label='precision')\n",
        "    ax[1].plot(regs, recall, label='recall')\n",
        "    ax[0].set_xlabel('L1 regularization strength')\n",
        "    ax[1].set_xlabel('L1 regularization strength')\n",
        "    ax[0].set_title('Precision')\n",
        "    ax[1].set_title('Recall')\n",
        "    plt.show()\n"
      ]
    },
    {
      "cell_type": "code",
      "execution_count": 185,
      "metadata": {
        "colab": {
          "base_uri": "https://localhost:8080/",
          "height": 383
        },
        "id": "Cx6jufNIAA8v",
        "outputId": "6332fadc-5119-4cb9-dd08-df2648d83863"
      },
      "outputs": [
        {
          "output_type": "stream",
          "name": "stdout",
          "text": [
            "2626.3760025749793\n"
          ]
        },
        {
          "output_type": "error",
          "ename": "ValueError",
          "evalue": "ignored",
          "traceback": [
            "\u001b[0;31m---------------------------------------------------------------------------\u001b[0m",
            "\u001b[0;31mValueError\u001b[0m                                Traceback (most recent call last)",
            "\u001b[0;32m<ipython-input-185-89d88f4ff1ae>\u001b[0m in \u001b[0;36m<cell line: 15>\u001b[0;34m()\u001b[0m\n\u001b[1;32m     14\u001b[0m \u001b[0mrecall\u001b[0m \u001b[0;34m=\u001b[0m \u001b[0mnp\u001b[0m\u001b[0;34m.\u001b[0m\u001b[0mzeros\u001b[0m\u001b[0;34m(\u001b[0m\u001b[0;36m20\u001b[0m\u001b[0;34m)\u001b[0m\u001b[0;34m\u001b[0m\u001b[0;34m\u001b[0m\u001b[0m\n\u001b[1;32m     15\u001b[0m \u001b[0;32mfor\u001b[0m \u001b[0mi\u001b[0m \u001b[0;32min\u001b[0m \u001b[0mrange\u001b[0m\u001b[0;34m(\u001b[0m\u001b[0;36m20\u001b[0m\u001b[0;34m)\u001b[0m\u001b[0;34m:\u001b[0m\u001b[0;34m\u001b[0m\u001b[0;34m\u001b[0m\u001b[0m\n\u001b[0;32m---> 16\u001b[0;31m     \u001b[0mpred_w\u001b[0m\u001b[0;34m,\u001b[0m \u001b[0mpred_w0\u001b[0m \u001b[0;34m=\u001b[0m \u001b[0mlasso\u001b[0m\u001b[0;34m(\u001b[0m\u001b[0mX\u001b[0m\u001b[0;34m,\u001b[0m \u001b[0my\u001b[0m\u001b[0;34m,\u001b[0m \u001b[0mreg\u001b[0m\u001b[0;34m)\u001b[0m\u001b[0;34m\u001b[0m\u001b[0;34m\u001b[0m\u001b[0m\n\u001b[0m\u001b[1;32m     17\u001b[0m     \u001b[0;32mif\u001b[0m\u001b[0;34m(\u001b[0m\u001b[0mnp\u001b[0m\u001b[0;34m.\u001b[0m\u001b[0mcount_nonzero\u001b[0m\u001b[0;34m(\u001b[0m\u001b[0mpred_w\u001b[0m\u001b[0;34m)\u001b[0m\u001b[0;34m==\u001b[0m\u001b[0;36m0\u001b[0m\u001b[0;34m)\u001b[0m\u001b[0;34m:\u001b[0m\u001b[0;34m\u001b[0m\u001b[0;34m\u001b[0m\u001b[0m\n\u001b[1;32m     18\u001b[0m         \u001b[0mprecision\u001b[0m\u001b[0;34m[\u001b[0m\u001b[0mi\u001b[0m\u001b[0;34m]\u001b[0m \u001b[0;34m=\u001b[0m \u001b[0;36m1\u001b[0m\u001b[0;34m\u001b[0m\u001b[0;34m\u001b[0m\u001b[0m\n",
            "\u001b[0;32m<ipython-input-180-2066145f0bcc>\u001b[0m in \u001b[0;36mlasso\u001b[0;34m(X, y, reg)\u001b[0m\n\u001b[1;32m     36\u001b[0m         \u001b[0;31m# print(c_k)\u001b[0m\u001b[0;34m\u001b[0m\u001b[0;34m\u001b[0m\u001b[0m\n\u001b[1;32m     37\u001b[0m \u001b[0;34m\u001b[0m\u001b[0m\n\u001b[0;32m---> 38\u001b[0;31m         \u001b[0mc_k\u001b[0m \u001b[0;34m=\u001b[0m \u001b[0mX_k\u001b[0m\u001b[0;34m.\u001b[0m\u001b[0mT\u001b[0m \u001b[0;34m@\u001b[0m \u001b[0;34m(\u001b[0m\u001b[0my\u001b[0m \u001b[0;34m-\u001b[0m \u001b[0;34m(\u001b[0m\u001b[0mw0_t1\u001b[0m \u001b[0;34m+\u001b[0m \u001b[0mX\u001b[0m \u001b[0;34m@\u001b[0m \u001b[0mw\u001b[0m \u001b[0;34m-\u001b[0m \u001b[0mX\u001b[0m\u001b[0;34m[\u001b[0m\u001b[0;34m:\u001b[0m\u001b[0;34m,\u001b[0m \u001b[0mk\u001b[0m\u001b[0;34m]\u001b[0m\u001b[0;34m@\u001b[0m\u001b[0mw\u001b[0m\u001b[0;34m[\u001b[0m\u001b[0mk\u001b[0m\u001b[0;34m]\u001b[0m\u001b[0;34m)\u001b[0m\u001b[0;34m)\u001b[0m\u001b[0;34m\u001b[0m\u001b[0;34m\u001b[0m\u001b[0m\n\u001b[0m\u001b[1;32m     39\u001b[0m         \u001b[0mw\u001b[0m\u001b[0;34m[\u001b[0m\u001b[0mk\u001b[0m\u001b[0;34m]\u001b[0m \u001b[0;34m=\u001b[0m \u001b[0msoft_threshold\u001b[0m\u001b[0;34m(\u001b[0m\u001b[0ma_k\u001b[0m\u001b[0;34m,\u001b[0m \u001b[0mc_k\u001b[0m\u001b[0;34m,\u001b[0m \u001b[0mreg\u001b[0m\u001b[0;34m)\u001b[0m\u001b[0;34m\u001b[0m\u001b[0;34m\u001b[0m\u001b[0m\n\u001b[1;32m     40\u001b[0m \u001b[0;34m\u001b[0m\u001b[0m\n",
            "\u001b[0;31mValueError\u001b[0m: matmul: Input operand 1 does not have enough dimensions (has 0, gufunc core with signature (n?,k),(k,m?)->(n?,m?) requires 1)"
          ]
        }
      ],
      "source": [
        "#TODO\n",
        "# Conduct experiments in 2.2 Dataset: synthetic data\n",
        "K, d, N = 6, 80, 50\n",
        "w, w0 = generate_true_w(d=d, K=K)\n",
        "X, y = generate_data(w, w0, N=N, d=d, sigma=1)\n",
        "reg = compute_lambdamax(X, y)\n",
        "print(reg)\n",
        "\n",
        "# Feel free to change this decreasing ratio\n",
        "ratio = 2\n",
        "\n",
        "regs = np.zeros(20)\n",
        "precision = np.zeros(20)\n",
        "recall = np.zeros(20)\n",
        "for i in range(20):\n",
        "    pred_w, pred_w0 = lasso(X, y, reg)\n",
        "    if(np.count_nonzero(pred_w)==0):\n",
        "        precision[i] = 1\n",
        "    else:\n",
        "        precision[i] = np.count_nonzero(pred_w[:K])/np.count_nonzero(pred_w)\n",
        "    recall[i] = np.count_nonzero(pred_w[:K])/K\n",
        "    regs[i] = reg\n",
        "    reg = reg/ratio\n",
        "\n",
        "plot(regs, precision, recall)"
      ]
    },
    {
      "cell_type": "markdown",
      "metadata": {
        "id": "asLNVyJ-AA8w"
      },
      "source": [
        "## Dataset: Water quality data (20 points)\n",
        "### 1. Load data X, y\n",
        "## For predicting the water quality data for the first location and second location\n",
        "### 2. find good regularization coefficient, record RMSE for training data, validation data and test data\n",
        "### 3. list largest weight magnitude and the names of features"
      ]
    },
    {
      "cell_type": "code",
      "execution_count": null,
      "metadata": {
        "id": "zBgBZbnyAA8x",
        "outputId": "9e1f11d4-773f-4fc7-a61c-5ff3b0232473"
      },
      "outputs": [
        {
          "name": "stdout",
          "output_type": "stream",
          "text": [
            "X_train.shape (338, 11) X_validate.shape (85, 11) X_test.shape (282, 11)\n",
            "y_train.shape (338, 1) u_validate.shape (85, 11) y_test.shape (282, 1)\n"
          ]
        }
      ],
      "source": [
        "def prepare_set(X_train, X_test, y_train, y_test, loc=0):\n",
        "    X_train_1 = np.zeros((423, 11))\n",
        "    X_test_1 = np.zeros((282, 11))\n",
        "    for i in range(423):\n",
        "        X_train_1[i,:] = X_train[0,i][loc]\n",
        "        if i < 282: X_test_1[i,:] = X_train[0,i][loc]\n",
        "    y_train_1 = y_train[0].reshape(-1, 1)\n",
        "    y_test_1 = y_test[0].reshape(-1, 1)\n",
        "    X_train_1, X_val_1, y_train_1, y_val_1 = train_test_split(X_train_1, y_train_1, test_size=0.2, random_state=0)\n",
        "    return X_train_1, X_val_1, X_test_1, y_train_1, y_val_1, y_test_1\n",
        "\n",
        "def compute_rmse(y, ypred):\n",
        "    return np.sqrt(((y - ypred) ** 2).mean())\n",
        "\n",
        "def plot2(regs, train_rmse, val_rmse):\n",
        "    fig, ax = plt.subplots(1, 2, figsize=(12,5))\n",
        "    ax[0].plot(regs, train_rmse, label='Training RMSE')\n",
        "    ax[1].plot(regs, val_rmse, label='Validation RMSE')\n",
        "    ax[0].set_xlabel('L1 regularization strength')\n",
        "    ax[1].set_xlabel('L1 regularization strength')\n",
        "    ax[0].set_title('Training RMSE')\n",
        "    ax[1].set_title('Validation RMSE')\n",
        "    plt.show()\n",
        "\n",
        "# Read data\n",
        "data_file = \"water_dataset.mat\"   \n",
        "data = scipy.io.loadmat(data_file)\n",
        "X_train, X_test = data['X_tr'], data['X_te']\n",
        "y_train, y_test = data['Y_tr'], data['Y_te']\n",
        "\n",
        "# Change location using loc parameters\n",
        "X_train_1, X_val_1, X_test_1, y_train_1, y_val_1, y_test_1 = prepare_set(X_train, X_test, y_train, y_test, loc=0) \n",
        "\n",
        "\n",
        "print('X_train.shape', X_train_1.shape, 'X_validate.shape', X_val_1.shape, 'X_test.shape', X_test_1.shape)\n",
        "print('y_train.shape', y_train_1.shape, 'u_validate.shape', X_val_1.shape, 'y_test.shape', y_test_1.shape)"
      ]
    },
    {
      "cell_type": "code",
      "execution_count": null,
      "metadata": {
        "id": "fkARk315AA8x"
      },
      "outputs": [],
      "source": [
        "#TODO\n",
        "# Conduct experiments: 2.3 Water quality prediction"
      ]
    }
  ],
  "metadata": {
    "interpreter": {
      "hash": "5cc9548c05a244386a6d3194fd4ce0daff846e301aca00a00f7a9d28040987a3"
    },
    "kernelspec": {
      "display_name": "Python 3.8.13 64-bit ('dr': conda)",
      "name": "python3"
    },
    "language_info": {
      "codemirror_mode": {
        "name": "ipython",
        "version": 3
      },
      "file_extension": ".py",
      "mimetype": "text/x-python",
      "name": "python",
      "nbconvert_exporter": "python",
      "pygments_lexer": "ipython3",
      "version": "3.8.13"
    },
    "orig_nbformat": 4,
    "colab": {
      "provenance": []
    }
  },
  "nbformat": 4,
  "nbformat_minor": 0
}