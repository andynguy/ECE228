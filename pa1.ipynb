{
  "cells": [
    {
      "cell_type": "markdown",
      "metadata": {
        "id": "yILF8MInAA8n"
      },
      "source": [
        "# Programming Assignment 1: LASSO\n",
        "\n",
        "### Instructor: Yuanyuan Shi\n",
        "\n",
        "### Teaching Assistants\n",
        "\n",
        "- Yuexin Bian, [yubian@ucsd.edu]\n",
        "- Tz-Ying Wu, [tzw001@ucsd.edu]\n",
        "\n",
        "## Instructions\n",
        "1. This assignment must be completed individually.  \n",
        "2. This notebook contains skeleton code, which should not be modified\n",
        "3. You must run all cells in this notebook and submit this notebook as an .ipynb file.\n",
        "4. You must submit the .ipynb on Gradescope."
      ]
    },
    {
      "cell_type": "markdown",
      "metadata": {
        "id": "o0s96T6kAA8p"
      },
      "source": [
        "## Setup"
      ]
    },
    {
      "cell_type": "code",
      "execution_count": 162,
      "metadata": {
        "id": "zQIffV5hAA8q"
      },
      "outputs": [],
      "source": [
        "import numpy as np\n",
        "from numpy import linalg\n",
        "import scipy\n",
        "from scipy.sparse import csc_matrix\n",
        "import matplotlib.pyplot as plt\n",
        "from scipy.io.arff import loadarff\n",
        "import pandas as pd\n",
        "from sklearn.model_selection import train_test_split\n",
        "import matplotlib.pyplot as plt\n",
        "%matplotlib inline\n",
        "# Comment it if you are not using mac\n",
        "# %config InlineBackend.figure_format = 'retina'\n"
      ]
    },
    {
      "cell_type": "markdown",
      "metadata": {
        "id": "_zs1YJypAA8r"
      },
      "source": [
        "## Implement coordinate descent "
      ]
    },
    {
      "cell_type": "code",
      "source": [
        "def soft_threshold(a, c, reg):\n",
        "  if (c < -reg):\n",
        "    return ((c + reg) / a)\n",
        "  elif (c > reg):\n",
        "    return ((c - reg) / a)\n",
        "  else:\n",
        "    return 0"
      ],
      "metadata": {
        "id": "-3tF1u8F-8r8"
      },
      "execution_count": 163,
      "outputs": []
    },
    {
      "cell_type": "code",
      "execution_count": 164,
      "metadata": {
        "id": "nnM1SY0uAA8s"
      },
      "outputs": [],
      "source": [
        "#TODO: You should initialize w_0 and w\n",
        "# Initialize w_0 to be 0, and initialize vector w that each element follows gaussian distribution (0, 1)\n",
        "# Implement algorithm following algorithm 1\n",
        "def lasso(X, y, reg):\n",
        "    \"\"\"\n",
        "    Args:\n",
        "        X: (N, d) \n",
        "        y: (N, 1)\n",
        "        reg: regularization coefficient lambda\n",
        "    Returns:\n",
        "        w: (d, 1) weight vector\n",
        "        w0: unregularized term\n",
        "    \"\"\"\n",
        "    X = np.copy(X)\n",
        "    np.random.seed(0)\n",
        "    N, d = X.shape\n",
        "    mu = 0\n",
        "    sigma = 1\n",
        "    w = np.random.normal(mu, sigma, (d,1))\n",
        "    w0 = 0\n",
        "    T = 200 #num iterations\n",
        "    # X = X / (np.linalg.norm(X, axis = 1))\n",
        "    for t in range(T):\n",
        "      y_t = X@w + w0\n",
        "      w0_t1 = y_t-X@w\n",
        "      y_t = y_t - w0 + w0_t1\n",
        "      w0 = w0_t1\n",
        "      for k in range(d):\n",
        "        X_k = X[:, k].reshape(-1, 1)\n",
        "        a_k = 2*np.sum(X_k**2)\n",
        "        c_k = 2*X_k.T @ (y - (w0_t1 + X @ w - w[k]*X_k))\n",
        "\n",
        "        w[k] = soft_threshold(a_k, c_k, reg)\n",
        "\n",
        "      # loss = np.sum((X@w + w0_t1 - y)**2) + reg*np.sum(np.abs(w))\n",
        "      # print(loss)\n",
        "        \n",
        "    return w, w0"
      ]
    },
    {
      "cell_type": "code",
      "source": [
        "# w, w0 = lasso(X, y, 10)\n",
        "# 2*X.T@(X@w + w0 - y)"
      ],
      "metadata": {
        "id": "U3sp27V00qHU"
      },
      "execution_count": 165,
      "outputs": []
    },
    {
      "cell_type": "code",
      "source": [
        "# K, d, N = 6, 80, 50\n",
        "# w, w0 = generate_true_w(d=d, K=K)\n",
        "# X, y = generate_data(w, w0, N=N, d=d, sigma=1)\n",
        "# X"
      ],
      "metadata": {
        "id": "SMAmVjJo2qOi"
      },
      "execution_count": 166,
      "outputs": []
    },
    {
      "cell_type": "code",
      "source": [
        "# X = np.array([[1, 2, 3],\n",
        "#               [4, 5, 6],\n",
        "#               [7, 8, 9]])\n",
        "# np.sum(X[:, 0:0])\n",
        "# mu = 1;\n",
        "# sigma = 1;\n",
        "# d = 100;\n",
        "# w = np.random.normal(mu, sigma, X.shape[1])\n",
        "# print(w)\n",
        "# print(X.shape[1])\n",
        "# np.sum(w[2:])\n",
        "\n",
        "# for i in range(3):\n",
        "#   print(i)"
      ],
      "metadata": {
        "id": "mfbdj-8YGBtq"
      },
      "execution_count": 167,
      "outputs": []
    },
    {
      "cell_type": "code",
      "source": [
        "# K = 6\n",
        "# d = 20\n",
        "# w = np.zeros((d, 1))\n",
        "# w[0:K] = np.random.normal(mu, 10, (K,1))\n",
        "# w\n"
      ],
      "metadata": {
        "id": "JdoowGx2q00G"
      },
      "execution_count": 168,
      "outputs": []
    },
    {
      "cell_type": "markdown",
      "metadata": {
        "id": "i_jM7ya9AA8t"
      },
      "source": [
        "## Dataset: synthetic data (15 points)\n",
        "### 1. Generate data X, y\n",
        "### 2. solve multiple lasso problems on a regularization path\n",
        "### 3. Plot the precision and recall via regularizations"
      ]
    },
    {
      "cell_type": "code",
      "execution_count": 169,
      "metadata": {
        "id": "SvoIshkOAA8t"
      },
      "outputs": [],
      "source": [
        "#TODO: generate true weight vector and weight following assignment\n",
        "def generate_true_w(d, K):\n",
        "    \"\"\"\n",
        "    Args:\n",
        "        d: int dimension of the input data X (N, d)\n",
        "        K: int, the number of useful features\n",
        "    Returns:\n",
        "        w: (d,1) weight vector\n",
        "        w0: unregularized term\n",
        "    \"\"\"\n",
        "    np.random.seed(0)\n",
        "    mu = 0;\n",
        "    w = np.zeros((d, 1))\n",
        "    for i in range(0, K):\n",
        "      w[i] = np.random.choice([-10, 10])\n",
        "    w0 = 0\n",
        "    return w, w0\n",
        "\n",
        "#TODO: generate true weight vector and weight following assignment\n",
        "def generate_data(w, w0, N, d, sigma):\n",
        "    \"\"\"\n",
        "    Args:\n",
        "        w: (d,1) weight vector\n",
        "        w0: unregularized term\n",
        "        N: int, the number of data samples\n",
        "        d: int, dimension of the input data X (N, d)\n",
        "        sigma: standard deviation of gaussian noise to generate y\n",
        "    Returns:\n",
        "        X: array (N, d)\n",
        "        y: array (N, 1)\n",
        "    \"\"\"\n",
        "    np.random.seed(0)\n",
        "    e = np.random.normal(0, sigma**2, (N, 1))\n",
        "    X = np.random.normal(0, 1, (N, d))\n",
        "    y = X@w + w0 + e\n",
        "    return X, y.reshape(-1, 1)\n",
        "\n",
        "\n",
        "#TODO: compute max lambda follow equation (2) in assignment document\n",
        "def compute_lambdamax(X, y):\n",
        "    \"\"\"\n",
        "    Args:\n",
        "        X: (N,d) input data\n",
        "        y: (N,1) input label\n",
        "    Returns:\n",
        "        maxreg: int, estimated max value of regularization term\n",
        "    \"\"\"\n",
        "    maxreg = 2*np.max(X.T@(y-np.mean(y)))\n",
        "    return maxreg\n",
        "\n",
        "# Using the plot function to generate plots\n",
        "def plot(regs, precision, recall):\n",
        "    fig, ax = plt.subplots(1, 2, figsize=(12,5))\n",
        "    ax[0].plot(regs, precision, label='precision')\n",
        "    ax[1].plot(regs, recall, label='recall')\n",
        "    ax[0].set_xlabel('L1 regularization strength')\n",
        "    ax[1].set_xlabel('L1 regularization strength')\n",
        "    ax[0].set_title('Precision')\n",
        "    ax[1].set_title('Recall')\n",
        "    # ax[0].set_xlim(0, 10)\n",
        "    # ax[1].set_xlim(0, 10)\n",
        "    plt.show()\n"
      ]
    },
    {
      "cell_type": "code",
      "execution_count": 172,
      "metadata": {
        "colab": {
          "base_uri": "https://localhost:8080/"
        },
        "id": "Cx6jufNIAA8v",
        "outputId": "ed927e63-384c-4fb9-fa57-73170f538331"
      },
      "outputs": [
        {
          "output_type": "stream",
          "name": "stdout",
          "text": [
            "1294.2113157082772\n"
          ]
        }
      ],
      "source": [
        "#TODO\n",
        "# Conduct experiments in 2.2 Dataset: synthetic data\n",
        "K, d, N = 6, 80, 50\n",
        "w, w0 = generate_true_w(d=d, K=K)\n",
        "X, y = generate_data(w, w0, N=N, d=d, sigma=1)\n",
        "reg = compute_lambdamax(X, y)\n",
        "regmax = reg\n",
        "print(reg)\n",
        "\n",
        "# Feel free to change this decreasing ratio\n",
        "ratio = 1.5\n",
        "\n",
        "# num of trials\n",
        "q = 50\n",
        "regs = np.zeros(q)\n",
        "precision = np.zeros(q)\n",
        "recall = np.zeros(q)\n",
        "lasso_loss = np.zeros(q)\n",
        "for i in range(q):\n",
        "    pred_w, pred_w0 = lasso(X, y, reg)\n",
        "    lasso_loss[i] = np.sum((X@pred_w + pred_w0 - y)**2)\n",
        "    if(np.count_nonzero(pred_w)==0):\n",
        "        precision[i] = 1\n",
        "    else:\n",
        "        precision[i] = np.count_nonzero(pred_w[:K])/np.count_nonzero(pred_w)\n",
        "    recall[i] = np.count_nonzero(pred_w[:K])/K\n",
        "    regs[i] = reg\n",
        "    reg = reg/ratio\n"
      ]
    },
    {
      "cell_type": "code",
      "source": [
        "plot(regs, precision, recall)\n",
        "plt.plot(regs, lasso_loss)\n",
        "plt.title('Loss')\n",
        "plt.ylabel('Loss')\n",
        "plt.xlabel('Lambda')\n",
        "# plt.xlim(0, 10)"
      ],
      "metadata": {
        "colab": {
          "base_uri": "https://localhost:8080/",
          "height": 959
        },
        "id": "IH0xxS6HpbtR",
        "outputId": "2d191993-4cc4-4c22-f731-0ee4613ff120"
      },
      "execution_count": 173,
      "outputs": [
        {
          "output_type": "display_data",
          "data": {
            "text/plain": [
              "<Figure size 1200x500 with 2 Axes>"
            ],
            "image/png": "[encoded data removed]"
          },
          "metadata": {}
        },
        {
          "output_type": "execute_result",
          "data": {
            "text/plain": [
              "Text(0.5, 0, 'Lambda')"
            ]
          },
          "metadata": {},
          "execution_count": 173
        },
        {
          "output_type": "display_data",
          "data": {
            "text/plain": [
              "<Figure size 640x480 with 1 Axes>"
            ],
            "image/png": "[encoded data removed]"
          },
          "metadata": {}
        }
      ]
    },
    {
      "cell_type": "code",
      "source": [
        "print(precision)\n",
        "print(recall)\n",
        "print(regs)\n",
        "i = np.argmax(precision*recall)\n",
        "print(lasso_loss)\n",
        "\n",
        "w_star, w0_star = lasso(X, y, regs[i])\n",
        "loss = np.sum((X@w_star + w0_star - y)**2) + reg*np.sum(np.abs(w_star))\n",
        "print(loss)\n",
        "print(regs[i])\n",
        "# print(w0_star)\n",
        "print(w_star)"
      ],
      "metadata": {
        "id": "1kz4ffZks-LH",
        "outputId": "a5378223-40b5-49f8-91b3-b0567a4e4832",
        "colab": {
          "base_uri": "https://localhost:8080/"
        }
      },
      "execution_count": 174,
      "outputs": [
        {
          "output_type": "stream",
          "name": "stdout",
          "text": [
            "[1.         1.         1.         1.         1.         1.\n",
            " 1.         0.85714286 0.85714286 0.6        0.4        0.3\n",
            " 0.25       0.2        0.1875     0.15789474 0.14634146 0.13333333\n",
            " 0.11111111 0.0952381  0.1        0.09375    0.08108108 0.08108108\n",
            " 0.07792208 0.07792208 0.07594937 0.075      0.075      0.075\n",
            " 0.075      0.075      0.075      0.075      0.075      0.075\n",
            " 0.075      0.075      0.075      0.075      0.075      0.075\n",
            " 0.075      0.075      0.075      0.075      0.075      0.075\n",
            " 0.075      0.075     ]\n",
            "[0.33333333 0.5        1.         1.         1.         1.\n",
            " 1.         1.         1.         1.         1.         1.\n",
            " 1.         1.         1.         1.         1.         1.\n",
            " 1.         1.         1.         1.         1.         1.\n",
            " 1.         1.         1.         1.         1.         1.\n",
            " 1.         1.         1.         1.         1.         1.\n",
            " 1.         1.         1.         1.         1.         1.\n",
            " 1.         1.         1.         1.         1.         1.\n",
            " 1.         1.        ]\n",
            "[1.29421132e+03 8.62807544e+02 5.75205029e+02 3.83470019e+02\n",
            " 2.55646680e+02 1.70431120e+02 1.13620747e+02 7.57471643e+01\n",
            " 5.04981096e+01 3.36654064e+01 2.24436042e+01 1.49624028e+01\n",
            " 9.97493522e+00 6.64995681e+00 4.43330454e+00 2.95553636e+00\n",
            " 1.97035757e+00 1.31357172e+00 8.75714478e-01 5.83809652e-01\n",
            " 3.89206434e-01 2.59470956e-01 1.72980638e-01 1.15320425e-01\n",
            " 7.68802834e-02 5.12535222e-02 3.41690148e-02 2.27793432e-02\n",
            " 1.51862288e-02 1.01241525e-02 6.74943503e-03 4.49962335e-03\n",
            " 2.99974890e-03 1.99983260e-03 1.33322173e-03 8.88814489e-04\n",
            " 5.92542993e-04 3.95028662e-04 2.63352441e-04 1.75568294e-04\n",
            " 1.17045529e-04 7.80303530e-05 5.20202353e-05 3.46801569e-05\n",
            " 2.31201046e-05 1.54134031e-05 1.02756020e-05 6.85040136e-06\n",
            " 4.56693424e-06 3.04462283e-06]\n",
            "[3.00481279e+04 2.04354860e+04 1.08461184e+04 4.84790252e+03\n",
            " 2.18202880e+03 9.97196035e+02 4.70603696e+02 2.36274132e+02\n",
            " 1.31611472e+02 7.54667485e+01 4.50009317e+01 2.70131143e+01\n",
            " 1.71138653e+01 1.02729435e+01 6.09671843e+00 3.66594671e+00\n",
            " 2.21515004e+00 1.32304571e+00 7.09302079e-01 3.19051936e-01\n",
            " 1.13673674e-01 3.11518729e-02 1.21402435e-02 5.38899555e-03\n",
            " 2.24731885e-03 1.00662235e-03 4.79813966e-04 2.10148091e-04\n",
            " 7.96446855e-05 3.53976313e-05 1.62289265e-05 7.21285623e-06\n",
            " 3.20571388e-06 1.42476172e-06 6.33227433e-07 2.81434415e-07\n",
            " 1.25081962e-07 5.55919831e-08 2.47075481e-08 1.09811325e-08\n",
            " 4.88050332e-09 2.16911259e-09 9.64050038e-10 4.28466684e-10\n",
            " 1.90429637e-10 8.46353942e-11 3.76157307e-11 1.67181026e-11\n",
            " 7.43026773e-12 3.30234127e-12]\n",
            "10846.11842748568\n",
            "575.2050292036787\n",
            "[[-5.82749349]\n",
            " [ 2.02351193]\n",
            " [ 4.15262277]\n",
            " [-1.76625641]\n",
            " [ 2.9356096 ]\n",
            " [ 6.24147605]\n",
            " [ 0.        ]\n",
            " [ 0.        ]\n",
            " [ 0.        ]\n",
            " [ 0.        ]\n",
            " [ 0.        ]\n",
            " [ 0.        ]\n",
            " [ 0.        ]\n",
            " [ 0.        ]\n",
            " [ 0.        ]\n",
            " [ 0.        ]\n",
            " [ 0.        ]\n",
            " [ 0.        ]\n",
            " [ 0.        ]\n",
            " [ 0.        ]\n",
            " [ 0.        ]\n",
            " [ 0.        ]\n",
            " [ 0.        ]\n",
            " [ 0.        ]\n",
            " [ 0.        ]\n",
            " [ 0.        ]\n",
            " [ 0.        ]\n",
            " [ 0.        ]\n",
            " [ 0.        ]\n",
            " [ 0.        ]\n",
            " [ 0.        ]\n",
            " [ 0.        ]\n",
            " [ 0.        ]\n",
            " [ 0.        ]\n",
            " [ 0.        ]\n",
            " [ 0.        ]\n",
            " [ 0.        ]\n",
            " [ 0.        ]\n",
            " [ 0.        ]\n",
            " [ 0.        ]\n",
            " [ 0.        ]\n",
            " [ 0.        ]\n",
            " [ 0.        ]\n",
            " [ 0.        ]\n",
            " [ 0.        ]\n",
            " [ 0.        ]\n",
            " [ 0.        ]\n",
            " [ 0.        ]\n",
            " [ 0.        ]\n",
            " [ 0.        ]\n",
            " [ 0.        ]\n",
            " [ 0.        ]\n",
            " [ 0.        ]\n",
            " [ 0.        ]\n",
            " [ 0.        ]\n",
            " [ 0.        ]\n",
            " [ 0.        ]\n",
            " [ 0.        ]\n",
            " [ 0.        ]\n",
            " [ 0.        ]\n",
            " [ 0.        ]\n",
            " [ 0.        ]\n",
            " [ 0.        ]\n",
            " [ 0.        ]\n",
            " [ 0.        ]\n",
            " [ 0.        ]\n",
            " [ 0.        ]\n",
            " [ 0.        ]\n",
            " [ 0.        ]\n",
            " [ 0.        ]\n",
            " [ 0.        ]\n",
            " [ 0.        ]\n",
            " [ 0.        ]\n",
            " [ 0.        ]\n",
            " [ 0.        ]\n",
            " [ 0.        ]\n",
            " [ 0.        ]\n",
            " [ 0.        ]\n",
            " [ 0.        ]\n",
            " [ 0.        ]]\n"
          ]
        }
      ]
    },
    {
      "cell_type": "markdown",
      "metadata": {
        "id": "asLNVyJ-AA8w"
      },
      "source": [
        "## Dataset: Water quality data (20 points)\n",
        "### 1. Load data X, y\n",
        "## For predicting the water quality data for the first location and second location\n",
        "### 2. find good regularization coefficient, record RMSE for training data, validation data and test data\n",
        "### 3. list largest weight magnitude and the names of features"
      ]
    },
    {
      "cell_type": "code",
      "execution_count": null,
      "metadata": {
        "id": "zBgBZbnyAA8x"
      },
      "outputs": [],
      "source": [
        "def prepare_set(X_train, X_test, y_train, y_test, loc=0):\n",
        "    X_train_1 = np.zeros((423, 11))\n",
        "    X_test_1 = np.zeros((282, 11))\n",
        "    for i in range(423):\n",
        "        X_train_1[i,:] = X_train[0,i][loc]\n",
        "        if i < 282: X_test_1[i,:] = X_train[0,i][loc]\n",
        "    y_train_1 = y_train[0].reshape(-1, 1)\n",
        "    y_test_1 = y_test[0].reshape(-1, 1)\n",
        "    X_train_1, X_val_1, y_train_1, y_val_1 = train_test_split(X_train_1, y_train_1, test_size=0.2, random_state=0)\n",
        "    return X_train_1, X_val_1, X_test_1, y_train_1, y_val_1, y_test_1\n",
        "\n",
        "def compute_rmse(y, ypred):\n",
        "    return np.sqrt(((y - ypred) ** 2).mean())\n",
        "\n",
        "def plot2(regs, train_rmse, val_rmse):\n",
        "    fig, ax = plt.subplots(1, 2, figsize=(12,5))\n",
        "    ax[0].plot(regs, train_rmse, label='Training RMSE')\n",
        "    ax[1].plot(regs, val_rmse, label='Validation RMSE')\n",
        "    ax[0].set_xlabel('L1 regularization strength')\n",
        "    ax[1].set_xlabel('L1 regularization strength')\n",
        "    ax[0].set_title('Training RMSE')\n",
        "    ax[1].set_title('Validation RMSE')\n",
        "    plt.show()\n",
        "\n",
        "# Read data\n",
        "data_file = \"water_dataset.mat\"   \n",
        "data = scipy.io.loadmat(data_file)\n",
        "X_train, X_test = data['X_tr'], data['X_te']\n",
        "y_train, y_test = data['Y_tr'], data['Y_te']\n",
        "\n",
        "# Change location using loc parameters\n",
        "X_train_1, X_val_1, X_test_1, y_train_1, y_val_1, y_test_1 = prepare_set(X_train, X_test, y_train, y_test, loc=0) \n",
        "\n",
        "\n",
        "print('X_train.shape', X_train_1.shape, 'X_validate.shape', X_val_1.shape, 'X_test.shape', X_test_1.shape)\n",
        "print('y_train.shape', y_train_1.shape, 'u_validate.shape', X_val_1.shape, 'y_test.shape', y_test_1.shape)"
      ]
    },
    {
      "cell_type": "code",
      "execution_count": null,
      "metadata": {
        "id": "fkARk315AA8x"
      },
      "outputs": [],
      "source": [
        "#TODO\n",
        "# Conduct experiments: 2.3 Water quality prediction"
      ]
    }
  ],
  "metadata": {
    "interpreter": {
      "hash": "5cc9548c05a244386a6d3194fd4ce0daff846e301aca00a00f7a9d28040987a3"
    },
    "kernelspec": {
      "display_name": "Python 3.8.13 64-bit ('dr': conda)",
      "name": "python3"
    },
    "language_info": {
      "codemirror_mode": {
        "name": "ipython",
        "version": 3
      },
      "file_extension": ".py",
      "mimetype": "text/x-python",
      "name": "python",
      "nbconvert_exporter": "python",
      "pygments_lexer": "ipython3",
      "version": "3.8.13"
    },
    "orig_nbformat": 4,
    "colab": {
      "provenance": []
    }
  },
  "nbformat": 4,
  "nbformat_minor": 0
}